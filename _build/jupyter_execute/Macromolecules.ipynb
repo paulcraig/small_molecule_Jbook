{
 "cells": [
  {
   "cell_type": "markdown",
   "id": "43ad49d8",
   "metadata": {},
   "source": [
    "# Macromolecules"
   ]
  },
  {
   "cell_type": "markdown",
   "id": "6e818d6a",
   "metadata": {},
   "source": [
    "## Purpose\n",
    "\n",
    "The RCSB PDB is the repository for all publicly available experimentally determined protein structures in the world. This notebook is made in order to demonstrate and elaborate on how to use the rcsbsearchapi Python library to recreate Advanced Searches from the RCSB PDB in Python. Further, this notebook will show how to download the files of the results of these searches, also in Python. This will be done through searching particularly for different marcomolecules represented in the RCSB PDB, with each search demonstrating a different way of utilizing the Advanced Search tool."
   ]
  },
  {
   "cell_type": "markdown",
   "id": "7c7a2ad3",
   "metadata": {},
   "source": [
    "## Steps Taken\n",
    "\n",
    "The following is a step-by-step explanation of what will be performed for each code example.\n",
    "\n",
    "### 1) Creating the Search\n",
    "\n",
    "An explanation of what the search is describing will be followed by the creation of a RCSB PDB Search.\n",
    "\n",
    "### 2a) Validation By List\n",
    "\n",
    "The search is tested for functionality by analyzing the first 10 results of the search in a list.\n",
    "\n",
    "### 2b) Validation By File Request\n",
    "\n",
    "The search is tested for functionality by requesting the file of the first search result. This is the step where the results will be changed if needed for the sake of requesting and downloading their corresponding file.\n",
    "\n",
    "### 2c) Validation By File Download\n",
    "\n",
    "The search is tested for functionality by downloading and reading the contents of the first search result's file. This includes the generation of a folder for the files of the search result.\n",
    "\n",
    "### 3) Complete Search Download\n",
    "\n",
    "Following validation, each file in the search result is downloaded into the previously generated file."
   ]
  },
  {
   "cell_type": "markdown",
   "id": "ba6b008d",
   "metadata": {},
   "source": [
    "## Importing Libraries\n",
    "\n",
    "A list of libraries that will need to be installed and imported to complete the tasks in the notebook.\n",
    "\n",
    "| Library | Contents | Source |\n",
    "| :-----: | :------- | :----- |\n",
    "| rcsbsearchapi | library for automated searching of the [RCSB Protein Data Bank](https://www.rcsb.org)| [py-rcsbsearchapi on GitHub](https://github.com/rcsb/py-rcsbsearchapi) |\n",
    "| requests | library for sending HTTP requests | [requests Documentation](https://requests.readthedocs.io/en/latest/) |\n",
    "| os | standard library for creating directories | [os Documentation](https://docs.python.org/3/library/os.html) |"
   ]
  },
  {
   "cell_type": "markdown",
   "id": "5c65cfb2",
   "metadata": {},
   "source": [
    "## Installation\n",
    "\n",
    "These libraries will need to be installed in your computing environment to perform the tasks in this notebook.\n",
    "\n",
    "To install from the command line on your computer, use this command (with the `requests` library as the example):\n",
    "\n",
    "`pip install requests`\n",
    "\n",
    "To install from within a Jupyter notebook or CoLab notebook, you need to type the same command in a coding cell, preceded by an exclamation point.\n",
    "\n",
    "`!pip install requests`\n",
    "\n",
    "These libraries will be imported as they are needed over the course of this notebook.\n"
   ]
  },
  {
   "cell_type": "code",
   "execution_count": null,
   "id": "241e5663",
   "metadata": {},
   "outputs": [],
   "source": [
    "# Import the components of rcsbsearchapi needed for this search\n",
    "from rcsbsearchapi import rcsb_attributes as attrs\n",
    "# For Operator notation\n",
    "\n",
    "from rcsbsearchapi.const import CHEMICAL_ATTRIBUTE_SEARCH_SERVICE, STRUCTURE_ATTRIBUTE_SEARCH_SERVICE\n",
    "from rcsbsearchapi.search import AttributeQuery, Attr, TextQuery, SequenceQuery, SeqMotifQuery\n",
    "# For Fluent notation\n",
    "\n",
    "import requests  # to enable us to pull files from the PDB\n",
    "import os        # to enable us to create a directory to store the files"
   ]
  },
  {
   "cell_type": "markdown",
   "id": "1ea8ab05",
   "metadata": {},
   "source": [
    "## Single Protein Chain\n",
    "\n",
    "### 1)\n",
    "\n",
    "The following code is a recreation of the search example on the RCSB Protein Data Bank shown [here](https://www.rcsb.org/search?request=%7B%22query%22%3A%7B%22type%22%3A%22group%22%2C%22logical_operator%22%3A%22and%22%2C%22nodes%22%3A%5B%7B%22type%22%3A%22group%22%2C%22logical_operator%22%3A%22and%22%2C%22nodes%22%3A%5B%7B%22type%22%3A%22group%22%2C%22logical_operator%22%3A%22and%22%2C%22nodes%22%3A%5B%7B%22type%22%3A%22terminal%22%2C%22service%22%3A%22text%22%2C%22parameters%22%3A%7B%22operator%22%3A%22equals%22%2C%22negation%22%3Afalse%2C%22value%22%3A1%2C%22attribute%22%3A%22rcsb_entry_info.deposited_polymer_entity_instance_count%22%7D%7D%2C%7B%22type%22%3A%22terminal%22%2C%22service%22%3A%22text%22%2C%22parameters%22%3A%7B%22operator%22%3A%22exact_match%22%2C%22negation%22%3Afalse%2C%22value%22%3A%22Protein%20(only)%22%2C%22attribute%22%3A%22rcsb_entry_info.selected_polymer_entity_types%22%7D%7D%2C%7B%22type%22%3A%22terminal%22%2C%22service%22%3A%22text%22%2C%22parameters%22%3A%7B%22operator%22%3A%22range%22%2C%22negation%22%3Afalse%2C%22value%22%3A%7B%22from%22%3A350%2C%22to%22%3A400%2C%22include_lower%22%3Atrue%2C%22include_upper%22%3Atrue%7D%2C%22attribute%22%3A%22rcsb_entry_info.deposited_polymer_monomer_count%22%7D%7D%5D%7D%5D%2C%22label%22%3A%22text%22%7D%5D%2C%22label%22%3A%22query-builder%22%7D%2C%22return_type%22%3A%22entry%22%2C%22request_options%22%3A%7B%22paginate%22%3A%7B%22start%22%3A0%2C%22rows%22%3A100%7D%2C%22scoring_strategy%22%3A%22combined%22%2C%22sort%22%3A%5B%7B%22sort_by%22%3A%22score%22%2C%22direction%22%3A%22desc%22%7D%5D%2C%22results_content_type%22%3A%5B%22experimental%22%5D%7D%2C%22request_info%22%3A%7B%22query_id%22%3A%22d06b0c0f28c1ee86b2a6bb2187eff51a%22%7D%7D) which is a search of structures with a single protein chain (no others) of length between 350-400 residues. This search can be divided into 3 attributes:\n",
    "\n",
    "Total Number of Polymer Instances\n",
    "Entry Polymer Types (Proteins)\n",
    "Total Number of Polymer Residues per Deposited Model\n",
    "\n",
    "The following code creates these three attributes, combines them into one 'query', then places the result in a list."
   ]
  },
  {
   "cell_type": "code",
   "execution_count": null,
   "id": "5688bb4b",
   "metadata": {},
   "outputs": [],
   "source": [
    "q1 = AttributeQuery(attribute=\"rcsb_entry_info.deposited_polymer_entity_instance_count\", operator = \"equals\", value = 1)\n",
    "q2 = AttributeQuery(attribute=\"rcsb_entry_info.selected_polymer_entity_types\", operator = \"exact_match\", value = \"Protein (only)\")\n",
    "q3_1 = AttributeQuery(attribute=\"rcsb_entry_info.deposited_polymer_monomer_count\", operator = \"greater_or_equal\", value = 350)\n",
    "q3_2 = AttributeQuery(attribute=\"rcsb_entry_info.deposited_polymer_monomer_count\", operator = \"less_or_equal\", value = 400)\n",
    "\n",
    "query = q1 & q2 & q3_1 & q3_2\n",
    "result_molecules = list(query(\"entry\"))"
   ]
  },
  {
   "cell_type": "markdown",
   "id": "b9cd464b",
   "metadata": {},
   "source": [
    "### 2a)\n",
    "\n",
    "We can check to make sure the list has been successfully created by printing the first 10 elements of the list. These 10 elements should be the same first ten elements seen on the RCSB RDB search."
   ]
  },
  {
   "cell_type": "code",
   "execution_count": null,
   "id": "46c8360e",
   "metadata": {},
   "outputs": [],
   "source": [
    "print(f\"The following drugs are among the {len(result_molecules)} structures with a single protein chain:\", result_molecules[0:10])"
   ]
  },
  {
   "cell_type": "markdown",
   "id": "e40a698d",
   "metadata": {},
   "source": [
    "### 2b)\n",
    "\n",
    "Now, we can begin downloading the files from the list we made. First, download this element in the list and then check to see if it was downloaded successfully. Then, open the file to see if its contents and in line with what is expected from the download."
   ]
  },
  {
   "cell_type": "code",
   "execution_count": null,
   "id": "8ff5c1d3",
   "metadata": {},
   "outputs": [],
   "source": [
    "test_validation = requests.get(f'https://files.rcsb.org/download/{result_molecules[0]}.cif')\n",
    "print(result_molecules[0])"
   ]
  },
  {
   "cell_type": "code",
   "execution_count": null,
   "id": "562ddab8",
   "metadata": {},
   "outputs": [],
   "source": [
    "test_validation.status_code"
   ]
  },
  {
   "cell_type": "markdown",
   "id": "99d171cb",
   "metadata": {},
   "source": [
    "### 2c)\n",
    "\n",
    "To further check, we can create a file and then read the contents of the file. Creating the file includes the creation of a directory (folder) in order to store the folder, which will be called marcomolecules."
   ]
  },
  {
   "cell_type": "code",
   "execution_count": null,
   "id": "7978348d",
   "metadata": {},
   "outputs": [],
   "source": [
    "# To really be sure, let's look at the file one line at a time. First we write the downloaded content to a file.\n",
    "\n",
    "# make a macromolecules folder for our results. If this marcomolecules folder already exists, then it doesn't create a new one\n",
    "os.makedirs(\"macromolecules/Single_Protein_Chain\", exist_ok=True)\n",
    "\n",
    "with open(f\"macromolecules/Single_Protein_Chain/{result_molecules[0]}.cif\", \"w+\") as file:\n",
    "    file.write(test_validation.text)"
   ]
  },
  {
   "cell_type": "code",
   "execution_count": null,
   "id": "96442891",
   "metadata": {},
   "outputs": [],
   "source": [
    "file1 = open(f'macromolecules/Single_Protein_Chain/{result_molecules[0]}.cif', 'r')\n",
    "file_text = file1.read() # This reads in the file as a string.\n",
    "\n",
    "print(file_text)"
   ]
  },
  {
   "cell_type": "markdown",
   "id": "a0bc6f8f",
   "metadata": {},
   "source": [
    "### 3)\n",
    "\n",
    "Once you've confirmed that the file download occurred correctly, we can finish by downloading all of the files from the list we made previously into the folder we generated. The following block of code will perform this."
   ]
  },
  {
   "cell_type": "code",
   "execution_count": null,
   "id": "25734b86",
   "metadata": {},
   "outputs": [],
   "source": [
    "baseUrl = \"https://files.rcsb.org/download/\"\n",
    "\n",
    "for ChemID in result_molecules:\n",
    "    cFile = f\"{ChemID}.mol2\"\n",
    "    cFileUrl = baseUrl + cFile\n",
    "    cFileLocal = \"macromolecules/Single_Protein_Chain/\" + cFile\n",
    "    response = requests.get(cFileUrl)\n",
    "    with open(cFileLocal, \"w+\") as file:\n",
    "        file.write(response.text)"
   ]
  },
  {
   "cell_type": "markdown",
   "id": "73e0ee70",
   "metadata": {},
   "source": [
    "## RNA Polymer\n",
    "\n",
    "### 1)\n",
    "\n",
    "The following code is a recreation of the search example on the RCSB Protein Data Bank shown [here](https://www.rcsb.org/search?request=%7B%22query%22%3A%7B%22type%22%3A%22group%22%2C%22logical_operator%22%3A%22and%22%2C%22nodes%22%3A%5B%7B%22type%22%3A%22group%22%2C%22logical_operator%22%3A%22and%22%2C%22nodes%22%3A%5B%7B%22type%22%3A%22group%22%2C%22logical_operator%22%3A%22and%22%2C%22nodes%22%3A%5B%7B%22type%22%3A%22terminal%22%2C%22service%22%3A%22text%22%2C%22parameters%22%3A%7B%22operator%22%3A%22greater%22%2C%22negation%22%3Afalse%2C%22value%22%3A0%2C%22attribute%22%3A%22rcsb_entry_info.polymer_entity_count_RNA%22%7D%2C%22node_id%22%3A0%7D%5D%7D%5D%2C%22label%22%3A%22text%22%7D%5D%2C%22label%22%3A%22query-builder%22%7D%2C%22return_type%22%3A%22entry%22%2C%22request_options%22%3A%7B%22paginate%22%3A%7B%22start%22%3A0%2C%22rows%22%3A100%7D%2C%22scoring_strategy%22%3A%22combined%22%2C%22sort%22%3A%5B%7B%22sort_by%22%3A%22score%22%2C%22direction%22%3A%22desc%22%7D%5D%7D%2C%22request_info%22%3A%7B%22src%22%3A%22ui%22%2C%22query_id%22%3A%229d86fd0df8d6003d2eb2735ca616caa6%22%7D%7D) which is a search of structures that contain an RNA polymer. This search can be divided into 1 attribute:\n",
    "\n",
    "Number of Distinct RNA Entities"
   ]
  },
  {
   "cell_type": "code",
   "execution_count": null,
   "id": "9599d6d8",
   "metadata": {},
   "outputs": [],
   "source": [
    "q1 = AttributeQuery(attribute=\"rcsb_entry_info.polymer_entity_count_RNA\", operator = \"greater\", value = 0)\n",
    "result_molecules = list(q1(\"entry\"))"
   ]
  },
  {
   "cell_type": "markdown",
   "id": "734186b2",
   "metadata": {},
   "source": [
    "### 2a)\n",
    "\n",
    "We can check to make sure the list has been successfully created by printing the first 10 elements of the list. These 10 elements should be the same first ten elements seen on the RCSB RDB search."
   ]
  },
  {
   "cell_type": "code",
   "execution_count": null,
   "id": "2ea5aea1",
   "metadata": {},
   "outputs": [],
   "source": [
    "print(f\"The following drugs are among the {len(result_molecules)} structures that contain an RNA polymer:\", result_molecules[0:10])"
   ]
  },
  {
   "cell_type": "markdown",
   "id": "73a17b43",
   "metadata": {},
   "source": [
    "### 2b)\n",
    "\n",
    "Now, we can begin downloading the files from the list we made. First, download this element in the list and then check to see if it was downloaded successfully. Then, open the file to see if its contents and in line with what is expected from the download."
   ]
  },
  {
   "cell_type": "code",
   "execution_count": null,
   "id": "7cac76b4",
   "metadata": {},
   "outputs": [],
   "source": [
    "test_validation = requests.get(f'https://files.rcsb.org/download/{result_molecules[0]}.cif')\n",
    "print(result_molecules[0])"
   ]
  },
  {
   "cell_type": "code",
   "execution_count": null,
   "id": "1939ae7a",
   "metadata": {},
   "outputs": [],
   "source": [
    "test_validation.status_code"
   ]
  },
  {
   "cell_type": "markdown",
   "id": "199507ad",
   "metadata": {},
   "source": [
    "### 2c)\n",
    "\n",
    "To further check, we can create a file and then read the contents of the file. Creating the file includes the creation of a directory (folder) in order to store the folder, which will be called marcomolecules"
   ]
  },
  {
   "cell_type": "code",
   "execution_count": null,
   "id": "3cb0f2c6",
   "metadata": {},
   "outputs": [],
   "source": [
    "# To really be sure, let's look at the file one line at a time. First we write the downloaded content to a file.\n",
    "\n",
    "# make a macromolecules folder for our results. If this macromolecules folder already exists, then it doesn't create a new one\n",
    "os.makedirs(\"macromolecules/RNA_Polymer\", exist_ok=True)\n",
    "\n",
    "with open(f\"macromolecules/RNA_Polymer/{result_molecules[0]}.cif\", \"w+\") as file:\n",
    "    file.write(test_validation.text)"
   ]
  },
  {
   "cell_type": "code",
   "execution_count": null,
   "id": "310e6e5f",
   "metadata": {},
   "outputs": [],
   "source": [
    "file1 = open(f'macromolecules/RNA_Polymer/{result_molecules[0]}.cif', 'r')\n",
    "file_text = file1.read() # This reads in the file as a string.\n",
    "\n",
    "print(file_text)"
   ]
  },
  {
   "cell_type": "markdown",
   "id": "1f029f53",
   "metadata": {},
   "source": [
    "### 3)\n",
    "\n",
    "Once you've confirmed that the file download occurred correctly, we can finish by downloading all of the files from the list we made previously into the folder we generated. The following block of code will perform this."
   ]
  },
  {
   "cell_type": "code",
   "execution_count": null,
   "id": "509bca20",
   "metadata": {},
   "outputs": [],
   "source": [
    "baseUrl = \"https://files.rcsb.org/download/\"\n",
    "\n",
    "for ChemID in result_molecules:\n",
    "    cFile = f\"{ChemID}.mol2\"\n",
    "    cFileUrl = baseUrl + cFile\n",
    "    cFileLocal = \"macromolecules/RNA_Polymer/\" + cFile\n",
    "    response = requests.get(cFileUrl)\n",
    "    with open(cFileLocal, \"w+\") as file:\n",
    "        file.write(response.text)"
   ]
  },
  {
   "cell_type": "markdown",
   "id": "a88c223e",
   "metadata": {},
   "source": [
    "## Membrane Proteins\n",
    "\n",
    "### 1)\n",
    "\n",
    "The following code is a recreation of the search example on the RCSB Protein Data Bank shown [here](https://www.rcsb.org/search?request=%7B%22query%22%3A%7B%22type%22%3A%22group%22%2C%22nodes%22%3A%5B%7B%22type%22%3A%22group%22%2C%22nodes%22%3A%5B%7B%22type%22%3A%22group%22%2C%22logical_operator%22%3A%22or%22%2C%22nodes%22%3A%5B%7B%22type%22%3A%22terminal%22%2C%22service%22%3A%22text%22%2C%22parameters%22%3A%7B%22attribute%22%3A%22rcsb_polymer_entity_annotation.type%22%2C%22operator%22%3A%22exact_match%22%2C%22value%22%3A%22PDBTM%22%7D%7D%2C%7B%22type%22%3A%22terminal%22%2C%22service%22%3A%22text%22%2C%22parameters%22%3A%7B%22attribute%22%3A%22rcsb_polymer_entity_annotation.type%22%2C%22operator%22%3A%22exact_match%22%2C%22value%22%3A%22MemProtMD%22%7D%7D%2C%7B%22type%22%3A%22terminal%22%2C%22service%22%3A%22text%22%2C%22parameters%22%3A%7B%22attribute%22%3A%22rcsb_polymer_entity_annotation.type%22%2C%22operator%22%3A%22exact_match%22%2C%22value%22%3A%22OPM%22%7D%7D%2C%7B%22type%22%3A%22terminal%22%2C%22service%22%3A%22text%22%2C%22parameters%22%3A%7B%22attribute%22%3A%22rcsb_polymer_entity_annotation.type%22%2C%22operator%22%3A%22exact_match%22%2C%22value%22%3A%22mpstruc%22%7D%7D%5D%7D%5D%2C%22logical_operator%22%3A%22and%22%2C%22label%22%3A%22text%22%7D%5D%2C%22logical_operator%22%3A%22and%22%7D%2C%22return_type%22%3A%22entry%22%2C%22request_info%22%3A%7B%22query_id%22%3A%22c932d0a99eb6732d4ac5d6c97962f67e%22%7D%2C%22request_options%22%3A%7B%22scoring_strategy%22%3A%22combined%22%2C%22sort%22%3A%5B%7B%22sort_by%22%3A%22score%22%2C%22direction%22%3A%22desc%22%7D%5D%2C%22paginate%22%3A%7B%22start%22%3A0%2C%22rows%22%3A25%7D%2C%22results_content_type%22%3A%5B%22experimental%22%5D%7D%7D) which is a search of membrane protein structures. This search can be divided into 1 attribute:\n",
    "\n",
    "PDBTM or MemProtMD or OPM or mpstruc"
   ]
  },
  {
   "cell_type": "code",
   "execution_count": null,
   "id": "bac42516",
   "metadata": {},
   "outputs": [],
   "source": [
    "q1 = AttributeQuery(attribute=\"rcsb_polymer_entity_annotation.type\", operator = \"exact_match\", value = \"PDBTM\")\n",
    "q2 = AttributeQuery(attribute=\"rcsb_polymer_entity_annotation.type\", operator = \"exact_match\", value = \"MemProtMD\")\n",
    "q3 = AttributeQuery(attribute=\"rcsb_polymer_entity_annotation.type\", operator = \"exact_match\", value = \"OPM\")\n",
    "q4 = AttributeQuery(attribute=\"rcsb_polymer_entity_annotation.type\", operator = \"exact_match\", value = \"mpstruc\")\n",
    "\n",
    "query = q1 or q2 or q3 or q4\n",
    "result_molecules = list(query(\"entry\"))"
   ]
  },
  {
   "cell_type": "markdown",
   "id": "45ca64b6",
   "metadata": {},
   "source": [
    "### 2a)\n",
    "\n",
    "We can check to make sure the list has been successfully created by printing the first 10 elements of the list. These 10 elements should be the same first ten elements seen on the RCSB RDB search."
   ]
  },
  {
   "cell_type": "code",
   "execution_count": null,
   "id": "95cecc5a",
   "metadata": {
    "scrolled": true
   },
   "outputs": [],
   "source": [
    "print(f\"The following drugs are among the {len(result_molecules)} membrane protein structures:\", result_molecules[0:10])"
   ]
  },
  {
   "cell_type": "markdown",
   "id": "866a9c83",
   "metadata": {},
   "source": [
    "### 2b)\n",
    "\n",
    "Now, we can begin downloading the files from the list we made. First, download this element in the list and then check to see if it was downloaded successfully. Then, open the file to see if its contents and in line with what is expected from the download."
   ]
  },
  {
   "cell_type": "code",
   "execution_count": null,
   "id": "d27d6215",
   "metadata": {},
   "outputs": [],
   "source": [
    "test_validation = requests.get(f'https://files.rcsb.org/download/{result_molecules[0]}.cif')\n",
    "print(result_molecules[0])"
   ]
  },
  {
   "cell_type": "code",
   "execution_count": null,
   "id": "4ed90af3",
   "metadata": {},
   "outputs": [],
   "source": [
    "test_validation.status_code"
   ]
  },
  {
   "cell_type": "markdown",
   "id": "23e49c92",
   "metadata": {},
   "source": [
    "### 2c)\n",
    "\n",
    "To further check, we can create a file and then read the contents of the file. Creating the file includes the creation of a directory (folder) in order to store the folder, which will be called marcomolecules."
   ]
  },
  {
   "cell_type": "code",
   "execution_count": null,
   "id": "0735bae1",
   "metadata": {},
   "outputs": [],
   "source": [
    "# To really be sure, let's look at the file one line at a time. First we write the downloaded content to a file.\n",
    "\n",
    "# make a ligands folder for our results. If this ligands folder already exists, then it doesn't create a new one\n",
    "os.makedirs(\"macromolecules/Membrane_Proteins\", exist_ok=True)\n",
    "\n",
    "with open(f\"macromolecules/Membrane_Proteins/{result_molecules[0]}.cif\", \"w+\") as file:\n",
    "    file.write(test_validation.text)"
   ]
  },
  {
   "cell_type": "code",
   "execution_count": null,
   "id": "228493ed",
   "metadata": {},
   "outputs": [],
   "source": [
    "file1 = open(f'macromolecules/Membrane_Proteins/{result_molecules[0]}.cif', 'r')\n",
    "file_text = file1.read() # This reads in the file as a string.\n",
    "\n",
    "print(file_text)"
   ]
  },
  {
   "cell_type": "markdown",
   "id": "94da8d3d",
   "metadata": {},
   "source": [
    "### 3)\n",
    "\n",
    "Once you've confirmed that the file download occurred correctly, we can finish by downloading all of the files from the list we made previously into the folder we generated. The following block of code will perform this."
   ]
  },
  {
   "cell_type": "code",
   "execution_count": null,
   "id": "c9be9d4a",
   "metadata": {},
   "outputs": [],
   "source": [
    "baseUrl = \"https://files.rcsb.org/download/\"\n",
    "\n",
    "for ChemID in result_molecules:\n",
    "    cFile = f\"{ChemID}.mol2\"\n",
    "    cFileUrl = baseUrl + cFile\n",
    "    cFileLocal = \"macromolecules/Membrane_Proteins/\" + cFile\n",
    "    response = requests.get(cFileUrl)\n",
    "    with open(cFileLocal, \"w+\") as file:\n",
    "        file.write(response.text)"
   ]
  },
  {
   "cell_type": "markdown",
   "id": "5fa8ae5a",
   "metadata": {},
   "source": [
    "## Modified Residues\n",
    "\n",
    "### 1)\n",
    "\n",
    "The following code is a recreation of the search example on the RCSB Protein Data Bank shown [here](https://www.rcsb.org/search?request=%7B%22query%22%3A%7B%22type%22%3A%22group%22%2C%22logical_operator%22%3A%22and%22%2C%22nodes%22%3A%5B%7B%22type%22%3A%22group%22%2C%22logical_operator%22%3A%22and%22%2C%22nodes%22%3A%5B%7B%22type%22%3A%22group%22%2C%22logical_operator%22%3A%22and%22%2C%22nodes%22%3A%5B%7B%22type%22%3A%22terminal%22%2C%22service%22%3A%22text%22%2C%22parameters%22%3A%7B%22operator%22%3A%22equals%22%2C%22negation%22%3Afalse%2C%22value%22%3A1%2C%22attribute%22%3A%22rcsb_entry_info.deposited_polymer_entity_instance_count%22%7D%7D%2C%7B%22type%22%3A%22terminal%22%2C%22service%22%3A%22text%22%2C%22parameters%22%3A%7B%22operator%22%3A%22exact_match%22%2C%22negation%22%3Afalse%2C%22value%22%3A%22Protein%20(only)%22%2C%22attribute%22%3A%22rcsb_entry_info.selected_polymer_entity_types%22%7D%7D%2C%7B%22type%22%3A%22terminal%22%2C%22service%22%3A%22text%22%2C%22parameters%22%3A%7B%22operator%22%3A%22range%22%2C%22negation%22%3Afalse%2C%22value%22%3A%7B%22from%22%3A350%2C%22to%22%3A400%2C%22include_lower%22%3Atrue%2C%22include_upper%22%3Atrue%7D%2C%22attribute%22%3A%22rcsb_entry_info.deposited_polymer_monomer_count%22%7D%7D%5D%7D%5D%2C%22label%22%3A%22text%22%7D%5D%2C%22label%22%3A%22query-builder%22%7D%2C%22return_type%22%3A%22entry%22%2C%22request_options%22%3A%7B%22paginate%22%3A%7B%22start%22%3A0%2C%22rows%22%3A100%7D%2C%22scoring_strategy%22%3A%22combined%22%2C%22sort%22%3A%5B%7B%22sort_by%22%3A%22score%22%2C%22direction%22%3A%22desc%22%7D%5D%2C%22results_content_type%22%3A%5B%22experimental%22%5D%7D%2C%22request_info%22%3A%7B%22query_id%22%3A%22d06b0c0f28c1ee86b2a6bb2187eff51a%22%7D%7D) which is a search of structures with non-standard polmeric compoenents. This search can be divided into 1 attribute:\n",
    "\n",
    "Modified Chemical Component Count Per Polymer Entity"
   ]
  },
  {
   "cell_type": "code",
   "execution_count": null,
   "id": "6d66fedd",
   "metadata": {},
   "outputs": [],
   "source": [
    "q1 = AttributeQuery(attribute=\"rcsb_polymer_entity_feature_summary.count\", operator = \"greater\", value = 0)\n",
    "q2 = AttributeQuery(attribute=\"rcsb_polymer_entity_feature_summary.type\", operator = \"exact_match\", value = \"modified_monomer\")\n",
    "\n",
    "query = q1 & q2\n",
    "result_molecules = list(query(\"entry\"))"
   ]
  },
  {
   "cell_type": "markdown",
   "id": "b7068dde",
   "metadata": {},
   "source": [
    "### 2a)\n",
    "\n",
    "We can check to make sure the list has been successfully created by printing the first 10 elements of the list. These 10 elements should be the same first ten elements seen on the RCSB RDB search."
   ]
  },
  {
   "cell_type": "code",
   "execution_count": null,
   "id": "97bee25e",
   "metadata": {
    "scrolled": true
   },
   "outputs": [],
   "source": [
    "print(f\"The following drugs are among the {len(result_molecules)} structures with modified residues:\", result_molecules[0:10])"
   ]
  },
  {
   "cell_type": "markdown",
   "id": "2c2e1d75",
   "metadata": {},
   "source": [
    "### 2b)\n",
    "\n",
    "Now, we can begin downloading the files from the list we made. First, download this element in the list and then check to see if it was downloaded successfully. Then, open the file to see if its contents and in line with what is expected from the download."
   ]
  },
  {
   "cell_type": "code",
   "execution_count": null,
   "id": "f18f00bb",
   "metadata": {},
   "outputs": [],
   "source": [
    "test_validation = requests.get(f'https://files.rcsb.org/download/{result_molecules[0]}.cif')\n",
    "print(result_molecules[0])"
   ]
  },
  {
   "cell_type": "code",
   "execution_count": null,
   "id": "7eb2dd35",
   "metadata": {},
   "outputs": [],
   "source": [
    "test_validation.status_code"
   ]
  },
  {
   "cell_type": "markdown",
   "id": "b072913e",
   "metadata": {},
   "source": [
    "### 2c)\n",
    "\n",
    "To further check, we can create a file and then read the contents of the file. Creating the file includes the creation of a directory (folder) in order to store the folder, which will be called marcomolecules."
   ]
  },
  {
   "cell_type": "code",
   "execution_count": null,
   "id": "3c67a484",
   "metadata": {},
   "outputs": [],
   "source": [
    "# To really be sure, let's look at the file one line at a time. First we write the downloaded content to a file.\n",
    "\n",
    "# make a ligands folder for our results. If this ligands folder already exists, then it doesn't create a new one\n",
    "os.makedirs(\"macromolecules/Modified_Residues\", exist_ok=True)\n",
    "\n",
    "with open(f\"macromolecules/Modified_Residues/{result_molecules[0]}.cif\", \"w+\") as file:\n",
    "    file.write(test_validation.text)"
   ]
  },
  {
   "cell_type": "code",
   "execution_count": null,
   "id": "13f7c4bc",
   "metadata": {},
   "outputs": [],
   "source": [
    "file1 = open(f'macromolecules/Modified_Residues/{result_molecules[0]}.cif', 'r')\n",
    "file_text = file1.read() # This reads in the file as a string.\n",
    "\n",
    "print(file_text)"
   ]
  },
  {
   "cell_type": "markdown",
   "id": "24fd38e1",
   "metadata": {},
   "source": [
    "### 3)\n",
    "\n",
    "Once you've confirmed that the file download occurred correctly, we can finish by downloading all of the files from the list we made previously into the folder we generated. The following block of code will perform this."
   ]
  },
  {
   "cell_type": "code",
   "execution_count": null,
   "id": "8d774a6d",
   "metadata": {},
   "outputs": [],
   "source": [
    "baseUrl = \"https://files.rcsb.org/download/\"\n",
    "\n",
    "for ChemID in result_molecules:\n",
    "    cFile = f\"{ChemID}.mol2\"\n",
    "    cFileUrl = baseUrl + cFile\n",
    "    cFileLocal = \"macromolecules/Modified_Residues/\" + cFile\n",
    "    response = requests.get(cFileUrl)\n",
    "    with open(cFileLocal, \"w+\") as file:\n",
    "        file.write(response.text)"
   ]
  },
  {
   "cell_type": "markdown",
   "id": "6cf7923a",
   "metadata": {},
   "source": [
    "## Chimeric Entities\n",
    "\n",
    "### 1)\n",
    "\n",
    "The following code is a recreation of the search example on the RCSB Protein Data Bank shown [here](https://www.rcsb.org/search?request=%7B%22query%22%3A%7B%22type%22%3A%22group%22%2C%22logical_operator%22%3A%22and%22%2C%22nodes%22%3A%5B%7B%22type%22%3A%22group%22%2C%22logical_operator%22%3A%22and%22%2C%22nodes%22%3A%5B%7B%22type%22%3A%22group%22%2C%22logical_operator%22%3A%22and%22%2C%22nodes%22%3A%5B%7B%22type%22%3A%22terminal%22%2C%22service%22%3A%22text%22%2C%22parameters%22%3A%7B%22operator%22%3A%22greater%22%2C%22negation%22%3Afalse%2C%22value%22%3A1%2C%22attribute%22%3A%22rcsb_polymer_entity.rcsb_source_taxonomy_count%22%7D%7D%5D%7D%5D%2C%22label%22%3A%22text%22%7D%5D%2C%22label%22%3A%22query-builder%22%7D%2C%22return_type%22%3A%22entry%22%2C%22request_options%22%3A%7B%22paginate%22%3A%7B%22start%22%3A0%2C%22rows%22%3A100%7D%2C%22scoring_strategy%22%3A%22combined%22%2C%22sort%22%3A%5B%7B%22sort_by%22%3A%22score%22%2C%22direction%22%3A%22desc%22%7D%5D%2C%22results_content_type%22%3A%5B%22experimental%22%5D%7D%2C%22request_info%22%3A%7B%22query_id%22%3A%22adad8b36d958c9102ebc1ba15af20074%22%7D%7D) which is a search of entries containing chimeric entities, which are engineered by fusing sequence fragments from different organisms. This search can be divided into 1 attribute:\n",
    "\n",
    "Distinct Taxonomy Count"
   ]
  },
  {
   "cell_type": "code",
   "execution_count": null,
   "id": "1c14eeb8",
   "metadata": {},
   "outputs": [],
   "source": [
    "q1 = AttributeQuery(attribute=\"rcsb_polymer_entity.rcsb_source_taxonomy_count\", operator = \"greater\", value = 1)\n",
    "\n",
    "result_molecules = list(q1(\"entry\"))"
   ]
  },
  {
   "cell_type": "markdown",
   "id": "ebe1ccdf",
   "metadata": {},
   "source": [
    "### 2a)\n",
    "\n",
    "We can check to make sure the list has been successfully created by printing the first 10 elements of the list. These 10 elements should be the same first ten elements seen on the RCSB RDB search."
   ]
  },
  {
   "cell_type": "code",
   "execution_count": null,
   "id": "17921449",
   "metadata": {
    "scrolled": true
   },
   "outputs": [],
   "source": [
    "print(f\"The following drugs are among the {len(result_molecules)} structures containing chimeric entities:\", result_molecules[0:10])"
   ]
  },
  {
   "cell_type": "markdown",
   "id": "55e898f9",
   "metadata": {},
   "source": [
    "### 2b)\n",
    "\n",
    "Now, we can begin downloading the files from the list we made. First, download this element in the list and then check to see if it was downloaded successfully. Then, open the file to see if its contents and in line with what is expected from the download."
   ]
  },
  {
   "cell_type": "code",
   "execution_count": null,
   "id": "df8399f5",
   "metadata": {},
   "outputs": [],
   "source": [
    "test_validation = requests.get(f'https://files.rcsb.org/download/{result_molecules[0]}.cif')\n",
    "print(result_molecules[0])"
   ]
  },
  {
   "cell_type": "code",
   "execution_count": null,
   "id": "84deabb9",
   "metadata": {},
   "outputs": [],
   "source": [
    "test_validation.status_code"
   ]
  },
  {
   "cell_type": "markdown",
   "id": "e1b584b8",
   "metadata": {},
   "source": [
    "### 2c)\n",
    "\n",
    "To further check, we can create a file and then read the contents of the file. Creating the file includes the creation of a directory (folder) in order to store the folder, which will be called marcomolecules."
   ]
  },
  {
   "cell_type": "code",
   "execution_count": null,
   "id": "555fb517",
   "metadata": {},
   "outputs": [],
   "source": [
    "# To really be sure, let's look at the file one line at a time. First we write the downloaded content to a file.\n",
    "\n",
    "# make a ligands folder for our results. If this ligands folder already exists, then it doesn't create a new one\n",
    "os.makedirs(\"macromolecules/Chimeric_Entities\", exist_ok=True)\n",
    "\n",
    "with open(f\"macromolecules/Chimeric_Entities/{result_molecules[0]}.cif\", \"w+\") as file:\n",
    "    file.write(test_validation.text)"
   ]
  },
  {
   "cell_type": "code",
   "execution_count": null,
   "id": "0cc2eb4d",
   "metadata": {},
   "outputs": [],
   "source": [
    "file1 = open(f'macromolecules/Chimeric_Entities/{result_molecules[0]}.cif', 'r')\n",
    "file_text = file1.read() # This reads in the file as a string.\n",
    "\n",
    "print(file_text)"
   ]
  },
  {
   "cell_type": "markdown",
   "id": "ef5a2cf3",
   "metadata": {},
   "source": [
    "### 3)\n",
    "\n",
    "Once you've confirmed that the file download occurred correctly, we can finish by downloading all of the files from the list we made previously into the folder we generated. The following block of code will perform this."
   ]
  },
  {
   "cell_type": "code",
   "execution_count": null,
   "id": "10a4262c",
   "metadata": {},
   "outputs": [],
   "source": [
    "baseUrl = \"https://files.rcsb.org/download/\"\n",
    "\n",
    "for ChemID in result_molecules:\n",
    "    cFile = f\"{ChemID}.mol2\"\n",
    "    cFileUrl = baseUrl + cFile\n",
    "    cFileLocal = \"macromolecules/Chimeric_Entities/\" + cFile\n",
    "    response = requests.get(cFileUrl)\n",
    "    with open(cFileLocal, \"w+\") as file:\n",
    "        file.write(response.text)"
   ]
  },
  {
   "cell_type": "markdown",
   "id": "490a3f73",
   "metadata": {},
   "source": [
    "## Sequence Similarity Search\n",
    "\n",
    "### 1)\n",
    "\n",
    "The following code is a recreation of the search example on the RCSB Protein Data Bank shown [here](https://www.rcsb.org/search?request=%7B%22query%22%3A%7B%22type%22%3A%22group%22%2C%22logical_operator%22%3A%22and%22%2C%22nodes%22%3A%5B%7B%22type%22%3A%22terminal%22%2C%22service%22%3A%22sequence%22%2C%22parameters%22%3A%7B%22evalue_cutoff%22%3A1%2C%22identity_cutoff%22%3A0%2C%22target%22%3A%22pdb_protein_sequence%22%2C%22value%22%3A%22MDAESIEWKLTANLRNGPTFFQPLADSIEPLQFKLIGSDTVATAFPVFDTKYIPDSLINYLFKLFNLEIESGKTYPQLHSLTKQGFLNYWFHSFAVVVLQTDEKFIQDNQDWNSVLLGTFYIKPNYAPRCSHNCNAGFLVNGAHRGQKVGYRLAQVYLNWAPLLGYKYSIFNLVFVTNQASWKIWDKLNFQRIGLVPHAGILNGFSEPVDAIIYGKDLTKIEPEFLSME%22%7D%2C%22label%22%3A%22sequence%22%2C%22node_id%22%3A0%7D%5D%2C%22label%22%3A%22query-builder%22%7D%2C%22return_type%22%3A%22polymer_entity%22%2C%22request_options%22%3A%7B%22paginate%22%3A%7B%22start%22%3A0%2C%22rows%22%3A100%7D%2C%22scoring_strategy%22%3A%22sequence%22%2C%22sort%22%3A%5B%7B%22sort_by%22%3A%22score%22%2C%22direction%22%3A%22desc%22%7D%5D%7D%2C%22request_info%22%3A%7B%22src%22%3A%22ui%22%2C%22query_id%22%3A%22d90fa2a404c722826f43c067ccf71959%22%7D%7D) which is a search of sequences similar to \"N-acetyltransferase MPR1\". This search can be divided into 1 attribute:\n",
    "\n",
    "Sequence Similarity (N-acetyltransferase MPR1)"
   ]
  },
  {
   "cell_type": "code",
   "execution_count": null,
   "id": "1450fd44",
   "metadata": {},
   "outputs": [],
   "source": [
    "sequencesimilarityquery = SequenceQuery(value = \"MDAESIEWKLTANLRNGPTFFQPLADSIEPLQFKLIGSDTVATAFPVFDTKYIPDSLINYLFKLFNLEIESGKTYPQLHSLTKQGFLNYWFHSFAVVVLQTDEKFIQDNQDWNSVLLGTFYIKPNYAPRCSHNCNAGFLVNGAHRGQKVGYRLAQVYLNWAPLLGYKYSIFNLVFVTNQASWKIWDKLNFQRIGLVPHAGILNGFSEPVDAIIYGKDLTKIEPEFLSME\", evalue_cutoff = 1, identity_cutoff = 0, sequence_type = \"protein\")\n",
    "\n",
    "result_search = list(sequencesimilarityquery(\"polymer_entity\"))"
   ]
  },
  {
   "cell_type": "markdown",
   "id": "76a74a99",
   "metadata": {},
   "source": [
    "### 2a)\n",
    "\n",
    "We can check to make sure the list has been successfully created by printing the first 10 elements of the list. These 10 elements should be the same first ten elements seen on the RCSB RDB search."
   ]
  },
  {
   "cell_type": "code",
   "execution_count": null,
   "id": "edbfd5cf",
   "metadata": {
    "scrolled": true
   },
   "outputs": [],
   "source": [
    "print(f\"The following drugs are among the {len(result_search)} sequences similar to N-acetyltransferase MPR1:\", result_search[0:10])"
   ]
  },
  {
   "cell_type": "markdown",
   "id": "fa2344fd",
   "metadata": {},
   "source": [
    "### 2b)\n",
    "\n",
    "Now, we can begin downloading the files from the list we made. First, download this element in the list and then check to see if it was downloaded successfully. Then, open the file to see if its contents and in line with what is expected from the download."
   ]
  },
  {
   "cell_type": "code",
   "execution_count": null,
   "id": "03f0e560",
   "metadata": {},
   "outputs": [],
   "source": [
    "test_validation = requests.get(f'https://files.rcsb.org/download/{result_search[0]}.cif')\n",
    "print(result_search[0])"
   ]
  },
  {
   "cell_type": "code",
   "execution_count": null,
   "id": "c1a8e01a",
   "metadata": {},
   "outputs": [],
   "source": [
    "test_validation.status_code"
   ]
  },
  {
   "cell_type": "markdown",
   "id": "e02f2940",
   "metadata": {},
   "source": [
    "### 2c)\n",
    "\n",
    "To further check, we can create a file and then read the contents of the file. Creating the file includes the creation of a directory (folder) in order to store the folder, which will be called marcomolecules."
   ]
  },
  {
   "cell_type": "code",
   "execution_count": null,
   "id": "1d33788f",
   "metadata": {},
   "outputs": [],
   "source": [
    "# To really be sure, let's look at the file one line at a time. First we write the downloaded content to a file.\n",
    "\n",
    "# make a ligands folder for our results. If this ligands folder already exists, then it doesn't create a new one\n",
    "os.makedirs(\"macromolecules/Sequence_Similarity\", exist_ok=True)\n",
    "\n",
    "with open(f\"macromolecules/Sequence_Similarity/{result_search[0]}.cif\", \"w+\") as file:\n",
    "    file.write(test_validation.text)"
   ]
  },
  {
   "cell_type": "code",
   "execution_count": null,
   "id": "e6a38936",
   "metadata": {},
   "outputs": [],
   "source": [
    "file1 = open(f'macromolecules/Sequence_Similarity/{result_search[0]}.cif', 'r')\n",
    "file_text = file1.read() # This reads in the file as a string.\n",
    "\n",
    "print(file_text)"
   ]
  },
  {
   "cell_type": "markdown",
   "id": "6475946e",
   "metadata": {},
   "source": [
    "### 3)\n",
    "\n",
    "Once you've confirmed that the file download occurred correctly, we can finish by downloading all of the files from the list we made previously into the folder we generated. The following block of code will perform this."
   ]
  },
  {
   "cell_type": "code",
   "execution_count": null,
   "id": "f456d4d3",
   "metadata": {},
   "outputs": [],
   "source": [
    "baseUrl = \"https://files.rcsb.org/download/\"\n",
    "\n",
    "for ChemID in result_search:\n",
    "    cFile = f\"{ChemID}.mol2\"\n",
    "    cFileUrl = baseUrl + cFile\n",
    "    cFileLocal = \"macromolecules/Sequence_Similarity/\" + cFile\n",
    "    response = requests.get(cFileUrl)\n",
    "    with open(cFileLocal, \"w+\") as file:\n",
    "        file.write(response.text)"
   ]
  },
  {
   "cell_type": "markdown",
   "id": "d78b355b",
   "metadata": {},
   "source": [
    "## Sequence Motif Search (NPPTP)\n",
    "\n",
    "NPPTP = ...\n",
    "XPPXP = ...\n",
    "W7G, G20L = ..."
   ]
  },
  {
   "cell_type": "code",
   "execution_count": null,
   "id": "644a8fe5",
   "metadata": {},
   "outputs": [],
   "source": [
    "sequencemotifquery = SeqMotifQuery(value = \"NPPTP\", pattern_type = \"simple\", sequence_type = \"protein\")\n",
    "\n",
    "result_search = list(sequencemotifquery(\"polymer_entity\"))"
   ]
  },
  {
   "cell_type": "code",
   "execution_count": null,
   "id": "f5cb7b06",
   "metadata": {},
   "outputs": [],
   "source": [
    "print(f\"The following drugs are among the {len(result_search)} sequences containing the motif NPPTP:\", result_search[0:10])"
   ]
  },
  {
   "cell_type": "markdown",
   "id": "dbeb6f86",
   "metadata": {},
   "source": [
    "## Sequence Motif Search (XPPXP)"
   ]
  },
  {
   "cell_type": "code",
   "execution_count": null,
   "id": "ca5bd3b9",
   "metadata": {},
   "outputs": [],
   "source": [
    "sequencemotifquery = SeqMotifQuery(value = \"XPPXP\", pattern_type = \"simple\", sequence_type = \"protein\")\n",
    "\n",
    "result_search = list(sequencemotifquery(\"polymer_entity\"))"
   ]
  },
  {
   "cell_type": "code",
   "execution_count": null,
   "id": "764e5d4f",
   "metadata": {},
   "outputs": [],
   "source": [
    "print(f\"The following drugs are among the {len(result_search)} sequences containing the motif XPPXP:\", result_search[0:10])"
   ]
  },
  {
   "cell_type": "markdown",
   "id": "38fe8197",
   "metadata": {},
   "source": [
    "## Sequence Motif Search (W 7 G, G 20 L)"
   ]
  },
  {
   "cell_type": "code",
   "execution_count": null,
   "id": "b1f1165b",
   "metadata": {},
   "outputs": [],
   "source": [
    "sequencemotifquery = SeqMotifQuery(value = \"W.{7}G.{20}L\", pattern_type = \"regex\", sequence_type = \"protein\")\n",
    "\n",
    "result_search = list(sequencemotifquery(\"polymer_entity\"))"
   ]
  },
  {
   "cell_type": "code",
   "execution_count": null,
   "id": "e88ca492",
   "metadata": {},
   "outputs": [],
   "source": [
    "print(f\"The following drugs are among the {len(result_search)} sequences containing 7 variable residues between W and G, and 20 variable residues between G and L:\", result_search[0:10])"
   ]
  },
  {
   "cell_type": "markdown",
   "id": "471fb002",
   "metadata": {},
   "source": [
    "## Sequence Motif Search (Zinc Finger Motif)"
   ]
  },
  {
   "cell_type": "code",
   "execution_count": null,
   "id": "eb5e0dbd",
   "metadata": {},
   "outputs": [],
   "source": [
    "sequencemotifquery = SeqMotifQuery(value = \"C.{2,4}C.{12}H.{3,5}H\", pattern_type = \"regex\", sequence_type = \"protein\")\n",
    "\n",
    "result_search = list(sequencemotifquery(\"polymer_entity\"))"
   ]
  },
  {
   "cell_type": "code",
   "execution_count": null,
   "id": "e100156b",
   "metadata": {},
   "outputs": [],
   "source": [
    "print(f\"The following drugs are among the {len(result_search)} sequences containing the zinc finger motif:\", result_search[0:10])"
   ]
  },
  {
   "cell_type": "markdown",
   "id": "95c23b81",
   "metadata": {},
   "source": [
    "## Sequence Motif Search (N-terminal Histidine)"
   ]
  },
  {
   "cell_type": "code",
   "execution_count": null,
   "id": "128dcbdd",
   "metadata": {},
   "outputs": [],
   "source": [
    "sequencemotifquery = SeqMotifQuery(value = \"^HHHHHH\", pattern_type = \"regex\", sequence_type = \"protein\")\n",
    "\n",
    "result_search = list(sequencemotifquery(\"polymer_entity\"))"
   ]
  },
  {
   "cell_type": "code",
   "execution_count": null,
   "id": "631edfb3",
   "metadata": {},
   "outputs": [],
   "source": [
    "print(f\"The following drugs are among the {len(result_search)} sequences with N-terminal Histidine tags:\", result_search[0:10])"
   ]
  },
  {
   "cell_type": "markdown",
   "id": "c08a9f7b",
   "metadata": {},
   "source": [
    "## Sequence Motif Seach (Walker)"
   ]
  },
  {
   "cell_type": "code",
   "execution_count": null,
   "id": "261b8d50",
   "metadata": {},
   "outputs": [],
   "source": [
    "sequencemotifquery = SeqMotifQuery(value = \"[AG]....GK[ST]\", pattern_type = \"regex\", sequence_type = \"protein\")\n",
    "\n",
    "result_search = list(sequencemotifquery(\"polymer_entity\"))"
   ]
  },
  {
   "cell_type": "code",
   "execution_count": null,
   "id": "fb071f9e",
   "metadata": {},
   "outputs": [],
   "source": [
    "print(f\"The following drugs are among the {len(result_search)} sequences with the Walker (P loop) motif:\", result_search[0:10])"
   ]
  },
  {
   "cell_type": "code",
   "execution_count": null,
   "id": "427bafb4",
   "metadata": {},
   "outputs": [],
   "source": []
  }
 ],
 "metadata": {
  "kernelspec": {
   "display_name": "Python 3 (ipykernel)",
   "language": "python",
   "name": "python3"
  },
  "language_info": {
   "codemirror_mode": {
    "name": "ipython",
    "version": 3
   },
   "file_extension": ".py",
   "mimetype": "text/x-python",
   "name": "python",
   "nbconvert_exporter": "python",
   "pygments_lexer": "ipython3",
   "version": "3.11.5"
  }
 },
 "nbformat": 4,
 "nbformat_minor": 5
}