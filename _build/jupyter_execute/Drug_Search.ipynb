{
 "cells": [
  {
   "cell_type": "markdown",
   "id": "10e864a0",
   "metadata": {},
   "source": [
    "# Drug Search"
   ]
  },
  {
   "cell_type": "markdown",
   "id": "6e818d6a",
   "metadata": {},
   "source": [
    "## Purpose\n",
    "\n",
    "The RCSB PDB is the repository for all publicly available experimentally determined protein structures in the world. This notebook is made in order to demonstrate and elaborate on how to use the rcsbsearchapi Python library to recreate Advanced Searches from the RCSB PDB in Python. Further, this notebook will show how to download the files of the results of these searches, also in Python. This will be done through searching particularly for different drugs represented in the RCSB PDB, with each search demonstrating a different way of utilizing the Advanced Search tool."
   ]
  },
  {
   "cell_type": "markdown",
   "id": "7c7a2ad3",
   "metadata": {},
   "source": [
    "## Steps Taken\n",
    "\n",
    "The following is a step-by-step explanation of what will be performed for each code example.\n",
    "\n",
    "### 1) Creating the Search\n",
    "\n",
    "An explanation of what the search is describing will be followed by the creation of a RCSB PDB Search.\n",
    "\n",
    "### 2a) Validation By List\n",
    "\n",
    "The search is tested for functionality by analyzing the first 10 results of the search in a list.\n",
    "\n",
    "### 2b) Validation By File Request\n",
    "\n",
    "The search is tested for functionality by requesting the file of the first search result. This is the step where the results will be changed if needed for the sake of requesting and downloading their corresponding file.\n",
    "\n",
    "### 2c) Validation By File Download\n",
    "\n",
    "The search is tested for functionality by downloading and reading the contents of the first search result's file. This includes the generation of a folder for the files of the search result.\n",
    "\n",
    "### 3) Complete Search Download\n",
    "\n",
    "Following validation, each file in the search result is downloaded into the previously generated file."
   ]
  },
  {
   "cell_type": "markdown",
   "id": "ba6b008d",
   "metadata": {},
   "source": [
    "## Importing Libraries\n",
    "\n",
    "A list of libraries that will need to be installed and imported to complete the tasks in the notebook.\n",
    "\n",
    "| Library | Contents | Source |\n",
    "| :-----: | :------- | :----- |\n",
    "| rcsbsearchapi | library for automated searching of the [RCSB Protein Data Bank](https://www.rcsb.org)| [py-rcsbsearchapi on GitHub](https://github.com/rcsb/py-rcsbsearchapi) |\n",
    "| requests | library for sending HTTP requests | [requests Documentation](https://requests.readthedocs.io/en/latest/) |\n",
    "| os | standard library for creating directories | [os Documentation](https://docs.python.org/3/library/os.html) |"
   ]
  },
  {
   "cell_type": "markdown",
   "id": "5c65cfb2",
   "metadata": {},
   "source": [
    "## Installation\n",
    "\n",
    "These libraries will need to be installed in your computing environment to perform the tasks in this notebook.\n",
    "\n",
    "To install from the command line on your computer, use this command (with the `requests` library as the example):\n",
    "\n",
    "`pip install requests`\n",
    "\n",
    "To install from within a Jupyter notebook or CoLab notebook, you need to type the same command in a coding cell, preceded by an exclamation point.\n",
    "\n",
    "`!pip install requests`\n",
    "\n",
    "These libraries will be imported as they are needed over the course of this notebook.\n"
   ]
  },
  {
   "cell_type": "code",
   "execution_count": 1,
   "id": "7f7f7135",
   "metadata": {},
   "outputs": [],
   "source": [
    "# Import the components of rcsbsearchapi needed for this search\n",
    "from rcsbsearchapi import rcsb_attributes as attrs\n",
    "# For Operator notation\n",
    "\n",
    "from rcsbsearchapi.const import CHEMICAL_ATTRIBUTE_SEARCH_SERVICE, STRUCTURE_ATTRIBUTE_SEARCH_SERVICE\n",
    "from rcsbsearchapi.search import AttributeQuery, Attr\n",
    "# For Fluent notation\n",
    "\n",
    "import requests  # to enable us to pull files from the PDB\n",
    "import os        # to enable us to create a directory to store the files"
   ]
  },
  {
   "cell_type": "markdown",
   "id": "0c744ec0",
   "metadata": {},
   "source": [
    "## US Market Approved Drug Search\n",
    "\n",
    "### 1)\n",
    "\n",
    "The following code is a recreation of the search example on the RCSB Protein Data Bank shown [here](https://www.rcsb.org/search?request=%7B%22query%22%3A%7B%22type%22%3A%22group%22%2C%22logical_operator%22%3A%22and%22%2C%22nodes%22%3A%5B%7B%22type%22%3A%22group%22%2C%22logical_operator%22%3A%22and%22%2C%22nodes%22%3A%5B%7B%22type%22%3A%22group%22%2C%22nodes%22%3A%5B%7B%22type%22%3A%22terminal%22%2C%22service%22%3A%22text_chem%22%2C%22parameters%22%3A%7B%22attribute%22%3A%22drugbank_info.drug_products.approved%22%2C%22operator%22%3A%22exact_match%22%2C%22negation%22%3Afalse%2C%22value%22%3A%22Y%22%7D%7D%2C%7B%22type%22%3A%22terminal%22%2C%22service%22%3A%22text_chem%22%2C%22parameters%22%3A%7B%22attribute%22%3A%22drugbank_info.drug_products.country%22%2C%22operator%22%3A%22exact_match%22%2C%22negation%22%3Afalse%2C%22value%22%3A%22US%22%7D%7D%5D%2C%22logical_operator%22%3A%22and%22%7D%5D%2C%22label%22%3A%22text_chem%22%7D%5D%7D%2C%22return_type%22%3A%22mol_definition%22%2C%22request_options%22%3A%7B%22paginate%22%3A%7B%22start%22%3A0%2C%22rows%22%3A25%7D%2C%22results_content_type%22%3A%5B%22experimental%22%5D%2C%22sort%22%3A%5B%7B%22sort_by%22%3A%22score%22%2C%22direction%22%3A%22desc%22%7D%5D%2C%22scoring_strategy%22%3A%22combined%22%7D%2C%22request_info%22%3A%7B%22query_id%22%3A%226f325351daf2bdb517d029b864a98556%22%7D%7D) which is a search of drugs that were approved for use on the US market at any point in history. This search can be divided into 2 attributes:\n",
    "\n",
    "Approved for use in the market   \n",
    "United States\n",
    "\n",
    "The following code creates these two attributes, combines them into one 'query', then places the result in a list."
   ]
  },
  {
   "cell_type": "code",
   "execution_count": 8,
   "id": "9092f6bd-e41f-41ca-853d-c3d4073fe9f1",
   "metadata": {},
   "outputs": [],
   "source": [
    "market_approved = \"Y\" #this variable indicates certified approval at a national level\n",
    "country = \"US\" #this variable indicates which country is being referred to\n",
    "\n",
    "q1 = AttributeQuery(attribute=\"drugbank_info.drug_products.approved\", operator=\"exact_match\", value=market_approved, service=CHEMICAL_ATTRIBUTE_SEARCH_SERVICE)\n",
    "#Attribute for market approval\n",
    "q2 = AttributeQuery(attribute=\"drugbank_info.drug_products.country\", operator=\"exact_match\", value=country, service=CHEMICAL_ATTRIBUTE_SEARCH_SERVICE)\n",
    "#Attribute for country\n",
    "query = q1 & q2 #Combining attributes into a single query\n",
    "result_drugs = list(query(\"mol_definition\"))"
   ]
  },
  {
   "cell_type": "markdown",
   "id": "b9cd464b",
   "metadata": {},
   "source": [
    "### 2a)\n",
    "\n",
    "We can check to make sure the list has been successfully created by printing the first 10 elements of the list. These 10 elements should be the same first ten elements seen on the RCSB RDB search."
   ]
  },
  {
   "cell_type": "code",
   "execution_count": 9,
   "id": "b5dfe676",
   "metadata": {},
   "outputs": [
    {
     "name": "stdout",
     "output_type": "stream",
     "text": [
      "The following drugs are among the 724 drugs approved for the market in the US: ['010', '017', '032', '05X', '07J', '08D', '08H', '08J', '08Y', '09L']\n"
     ]
    }
   ],
   "source": [
    "print(f\"The following drugs are among the {len(result_drugs)} drugs approved for the market in the {country}:\", result_drugs[0:10])"
   ]
  },
  {
   "cell_type": "markdown",
   "id": "e40a698d",
   "metadata": {},
   "source": [
    "### 2b)\n",
    "\n",
    "Now, we can begin downloading the files from the list we made. First, download this element in the list and then check to see if it was downloaded successfully. Then, open the file to see if its contents and in line with what is expected from the download."
   ]
  },
  {
   "cell_type": "code",
   "execution_count": 12,
   "id": "7a24ff14",
   "metadata": {},
   "outputs": [],
   "source": [
    "#Downloading a file from our list:\n",
    "\n",
    "test_validation = requests.get(f'https://files.rcsb.org/ligands/download/{result_drugs[0]}.cif')"
   ]
  },
  {
   "cell_type": "code",
   "execution_count": 13,
   "id": "b7043e37",
   "metadata": {},
   "outputs": [
    {
     "data": {
      "text/plain": [
       "200"
      ]
     },
     "execution_count": 13,
     "metadata": {},
     "output_type": "execute_result"
    }
   ],
   "source": [
    "# check to see that the file downloaded properly. A status code of 200 means everything is okay.\n",
    "\n",
    "test_validation.status_code        # Status code check"
   ]
  },
  {
   "cell_type": "markdown",
   "id": "99d171cb",
   "metadata": {},
   "source": [
    "### 2c)\n",
    "\n",
    "To further check, we can create a file and then read the contents of the file. Creating the file includes the creation of a directory (folder) in order to store the folder, which will be called ligands."
   ]
  },
  {
   "cell_type": "code",
   "execution_count": null,
   "id": "096a56da",
   "metadata": {},
   "outputs": [],
   "source": [
    "# To really be sure, let's look at the file one line at a time. First we write the downloaded content to a file.\n",
    "\n",
    "# make a ligands folder for our results. If this ligands folder already exists, then it doesn't create a new one\n",
    "os.makedirs(\"ligands\", exist_ok=True)\n",
    "\n",
    "with open(f\"ligands/{result_drugs[0]}.c\", \"w+\") as file:\n",
    "    file.write(test_validation.text)"
   ]
  },
  {
   "cell_type": "code",
   "execution_count": null,
   "id": "c9d9c2e4",
   "metadata": {
    "scrolled": true
   },
   "outputs": [],
   "source": [
    "file1 = open(f'ligands/{result_drugs[0]}_ideal.mol2', 'r')\n",
    "file_text = file1.read() # This reads in the file as a string.\n",
    "\n",
    "print(file_text)"
   ]
  },
  {
   "cell_type": "markdown",
   "id": "e883cbae",
   "metadata": {},
   "source": [
    "### 3)\n",
    "\n",
    "Once you've confirmed that the file download occurred correctly, we can finish by downloading all of the files from the list we made previously into the folder we generated. The following block of code will perform this."
   ]
  },
  {
   "cell_type": "code",
   "execution_count": null,
   "id": "b85d927b",
   "metadata": {},
   "outputs": [],
   "source": [
    "baseUrl = \"https://files.rcsb.org/ligands/download/\"\n",
    "\n",
    "for ChemID in result_drugs:\n",
    "    cFile = f\"{ChemID}.mol2\"\n",
    "    cFileUrl = baseUrl + cFile\n",
    "    cFileLocal = \"ligands/USMarketDrugSearch/\" + cFile\n",
    "    response = requests.get(cFileUrl)\n",
    "    with open(cFileLocal, \"w+\") as file:\n",
    "        file.write(response.text)"
   ]
  },
  {
   "cell_type": "markdown",
   "id": "e629a1da",
   "metadata": {},
   "source": [
    "## Current US Market\n",
    "\n",
    "### 1)\n",
    "\n",
    "The following code is a recreation of the search example on the RCSB Protein Data Bank shown [here](https://www.rcsb.org/search?request=%7B%22query%22%3A%7B%22type%22%3A%22group%22%2C%22logical_operator%22%3A%22and%22%2C%22nodes%22%3A%5B%7B%22type%22%3A%22group%22%2C%22logical_operator%22%3A%22and%22%2C%22nodes%22%3A%5B%7B%22type%22%3A%22group%22%2C%22nodes%22%3A%5B%7B%22type%22%3A%22terminal%22%2C%22service%22%3A%22text_chem%22%2C%22parameters%22%3A%7B%22attribute%22%3A%22drugbank_info.drug_products.approved%22%2C%22operator%22%3A%22exact_match%22%2C%22negation%22%3Afalse%2C%22value%22%3A%22Y%22%7D%7D%2C%7B%22type%22%3A%22terminal%22%2C%22service%22%3A%22text_chem%22%2C%22parameters%22%3A%7B%22attribute%22%3A%22drugbank_info.drug_products.country%22%2C%22operator%22%3A%22exact_match%22%2C%22negation%22%3Afalse%2C%22value%22%3A%22US%22%7D%7D%5D%2C%22logical_operator%22%3A%22and%22%7D%5D%2C%22label%22%3A%22text_chem%22%7D%5D%7D%2C%22return_type%22%3A%22mol_definition%22%2C%22request_options%22%3A%7B%22paginate%22%3A%7B%22start%22%3A0%2C%22rows%22%3A25%7D%2C%22results_content_type%22%3A%5B%22experimental%22%5D%2C%22sort%22%3A%5B%7B%22sort_by%22%3A%22score%22%2C%22direction%22%3A%22desc%22%7D%5D%2C%22scoring_strategy%22%3A%22combined%22%7D%2C%22request_info%22%3A%7B%22query_id%22%3A%226f325351daf2bdb517d029b864a98556%22%7D%7D) which is a search of drugs that are currently available in the US market. This search can be divided into 3 attributes:\n",
    "\n",
    "Approved for use in the market   \n",
    "United States  \n",
    "Currently Avaiable\n",
    "\n",
    "The following code creates these two attributes, combines them into one 'query', then places the result in a list."
   ]
  },
  {
   "cell_type": "code",
   "execution_count": null,
   "id": "0b865378",
   "metadata": {},
   "outputs": [],
   "source": [
    "market_approved = \"Y\" #this variable indicates certified approval at a national level\n",
    "country = \"US\" #this variable indicates which country is being referred to\n",
    "\n",
    "q1 = AttributeQuery(attribute=\"drugbank_info.drug_products.approved\", operator=\"exact_match\", value=market_approved, service=CHEMICAL_ATTRIBUTE_SEARCH_SERVICE)\n",
    "#Attribute for market approval\n",
    "q2 = AttributeQuery(attribute=\"drugbank_info.drug_products.country\", operator=\"exact_match\", value=country, service=CHEMICAL_ATTRIBUTE_SEARCH_SERVICE)\n",
    "#Attribute for country\n",
    "q3 = AttributeQuery(attribute=\"drugbank_info.drug_products.ended_marketing_on\", operator=\"exists\", service=CHEMICAL_ATTRIBUTE_SEARCH_SERVICE, negation=True)\n",
    "#Attribute for currently in the market\n",
    "\n",
    "query = q1 & q2 & q3 #Combining attributes into a single query\n",
    "result_drugs = list(query(\"mol_definition\"))"
   ]
  },
  {
   "cell_type": "markdown",
   "id": "e4339bf8",
   "metadata": {},
   "source": [
    "### 2a)\n",
    "\n",
    "We can check to make sure the list has been successfully created by printing the first 10 elements of the list. These 10 elements should be the same first ten elements seen on the RCSB RDB search."
   ]
  },
  {
   "cell_type": "code",
   "execution_count": null,
   "id": "aa5aad42",
   "metadata": {},
   "outputs": [],
   "source": [
    "print(f\"The following drugs are among the {len(result_drugs)} drugs avaiable in the {country} market:\", result_drugs[0:10])"
   ]
  },
  {
   "cell_type": "markdown",
   "id": "0cb48bd0",
   "metadata": {},
   "source": [
    "### 2b)\n",
    "\n",
    "Now, we can begin downloading the files from the list we made. First, download this element in the list and then check to see if it was downloaded successfully. Then, open the file to see if its contents and in line with what is expected from the download."
   ]
  },
  {
   "cell_type": "code",
   "execution_count": null,
   "id": "53b74021",
   "metadata": {},
   "outputs": [],
   "source": [
    "test_validation = requests.get(f'https://files.rcsb.org/ligands/download/{result_drugs[0]}_ideal.mol2')"
   ]
  },
  {
   "cell_type": "code",
   "execution_count": null,
   "id": "3a197aae",
   "metadata": {},
   "outputs": [],
   "source": [
    "test_validation.status_code"
   ]
  },
  {
   "cell_type": "markdown",
   "id": "bfa08db2",
   "metadata": {},
   "source": [
    "### 2c)\n",
    "\n",
    "To further check, we can create a file and then read the contents of the file. Creating the file includes the creation of a directory (folder) in order to store the folder, which will be called ligands."
   ]
  },
  {
   "cell_type": "code",
   "execution_count": null,
   "id": "c079229a",
   "metadata": {},
   "outputs": [],
   "source": [
    "os.makedirs(\"ligands/Current_US_Market\", exist_ok=True) #wrote in a new file using this same command\n",
    "\n",
    "with open(f\"ligands/Current_US_Market/{result_drugs[0]}_ideal.mol2\", \"w+\") as file:\n",
    "    file.write(test_validation.text)    "
   ]
  },
  {
   "cell_type": "code",
   "execution_count": null,
   "id": "4a648ed2",
   "metadata": {},
   "outputs": [],
   "source": [
    "file = open(f'ligands/Current_US_Market/{result_drugs[0]}_ideal.mol2', 'r')\n",
    "file_text = file.read() # This reads in the file as a string.\n",
    "\n",
    "print(file_text)"
   ]
  },
  {
   "cell_type": "markdown",
   "id": "a2f5a06c",
   "metadata": {},
   "source": [
    "### 3)\n",
    "\n",
    "Once you've confirmed that the file download occurred correctly, we can finish by downloading all of the files from the list we made previously into the folder we generated. The following block of code will perform this."
   ]
  },
  {
   "cell_type": "code",
   "execution_count": null,
   "id": "2c5571b3",
   "metadata": {},
   "outputs": [],
   "source": [
    "baseUrl = \"https://files.rcsb.org/ligands/download/\"\n",
    "\n",
    "for ChemID in result_drugs:\n",
    "    cFile = f\"{ChemID}.mol2\"\n",
    "    cFileUrl = baseUrl + cFile\n",
    "    cFileLocal = \"ligands/Current_US_Market/\" + cFile #Do we need to make a local file, or is it expected they will fill in the code? \n",
    "    response = requests.get(cFileUrl)\n",
    "    with open(cFileLocal, \"w+\") as file:\n",
    "        file.write(response.text)"
   ]
  },
  {
   "cell_type": "markdown",
   "id": "f6faa194",
   "metadata": {},
   "source": [
    "## Recalled Drugs\n",
    "\n",
    "### 1)\n",
    "\n",
    "The following code is a recreation of the search example on the RCSB Protein Data Bank shown [here](https://www.rcsb.org/search?request=%7B%22query%22%3A%7B%22type%22%3A%22group%22%2C%22logical_operator%22%3A%22and%22%2C%22nodes%22%3A%5B%7B%22type%22%3A%22group%22%2C%22logical_operator%22%3A%22and%22%2C%22nodes%22%3A%5B%7B%22type%22%3A%22group%22%2C%22nodes%22%3A%5B%7B%22type%22%3A%22terminal%22%2C%22service%22%3A%22text_chem%22%2C%22parameters%22%3A%7B%22attribute%22%3A%22drugbank_info.drug_products.approved%22%2C%22operator%22%3A%22exact_match%22%2C%22negation%22%3Afalse%2C%22value%22%3A%22Y%22%7D%7D%2C%7B%22type%22%3A%22terminal%22%2C%22service%22%3A%22text_chem%22%2C%22parameters%22%3A%7B%22attribute%22%3A%22drugbank_info.drug_products.country%22%2C%22operator%22%3A%22exact_match%22%2C%22negation%22%3Afalse%2C%22value%22%3A%22US%22%7D%7D%5D%2C%22logical_operator%22%3A%22and%22%7D%5D%2C%22label%22%3A%22text_chem%22%7D%5D%7D%2C%22return_type%22%3A%22mol_definition%22%2C%22request_options%22%3A%7B%22paginate%22%3A%7B%22start%22%3A0%2C%22rows%22%3A25%7D%2C%22results_content_type%22%3A%5B%22experimental%22%5D%2C%22sort%22%3A%5B%7B%22sort_by%22%3A%22score%22%2C%22direction%22%3A%22desc%22%7D%5D%2C%22scoring_strategy%22%3A%22combined%22%7D%2C%22request_info%22%3A%7B%22query_id%22%3A%226f325351daf2bdb517d029b864a98556%22%7D%7D) which is a search of drugs that were withdrawn from use following their approval. This search can be divided into 1 attribute:\n",
    "\n",
    "Withdrawn\n",
    "\n",
    "The following code creates these two attributes, combines them into one 'query', then places the result in a list."
   ]
  },
  {
   "cell_type": "code",
   "execution_count": null,
   "id": "fd955198",
   "metadata": {},
   "outputs": [],
   "source": [
    "q1Attribute = \"withdrawn\"\n",
    "\n",
    "q1 = AttributeQuery(attribute=\"drugbank_info.drug_groups\", operator=\"exact_match\", value=\"withdrawn\", service=CHEMICAL_ATTRIBUTE_SEARCH_SERVICE)\n",
    "#Attribute for withdrawn from use\n",
    "result_drugs = list(q1(\"mol_definition\"))"
   ]
  },
  {
   "cell_type": "markdown",
   "id": "22f6185f",
   "metadata": {},
   "source": [
    "### 2a)\n",
    "\n",
    "We can check to make sure the list has been successfully created by printing the first 10 elements of the list. These 10 elements should be the same first ten elements seen on the RCSB RDB search."
   ]
  },
  {
   "cell_type": "code",
   "execution_count": null,
   "id": "7228bcca",
   "metadata": {},
   "outputs": [],
   "source": [
    "print(f\"The following drugs are among the {len(result_drugs)} drugs withdrawn due to later discovered harmful side-effects:\", result_drugs[0:10])"
   ]
  },
  {
   "cell_type": "markdown",
   "id": "7906c974",
   "metadata": {},
   "source": [
    "### 2b)\n",
    "\n",
    "Now, we can begin downloading the files from the list we made. First, download this element in the list and then check to see if it was downloaded successfully. Then, open the file to see if its contents and in line with what is expected from the download."
   ]
  },
  {
   "cell_type": "code",
   "execution_count": null,
   "id": "25870041",
   "metadata": {},
   "outputs": [],
   "source": [
    "test_validation = requests.get(f'https://files.rcsb.org/ligands/download/{result_drugs[0]}_ideal.mol2')"
   ]
  },
  {
   "cell_type": "code",
   "execution_count": null,
   "id": "321a0f88",
   "metadata": {},
   "outputs": [],
   "source": [
    "test_validation.status_code"
   ]
  },
  {
   "cell_type": "markdown",
   "id": "07214908",
   "metadata": {},
   "source": [
    "### 2c)\n",
    "\n",
    "To further check, we can create a file and then read the contents of the file. Creating the file includes the creation of a directory (folder) in order to store the folder, which will be called ligands."
   ]
  },
  {
   "cell_type": "code",
   "execution_count": null,
   "id": "cccdb669",
   "metadata": {},
   "outputs": [],
   "source": [
    "os.makedirs(\"ligands/Recalled_Drugs\", exist_ok=True)\n",
    "\n",
    "with open(f\"ligands/Recalled_Drugs/{result_drugs[0]}_ideal.mol2\", \"w+\") as file:\n",
    "    file.write(test_validation.text)"
   ]
  },
  {
   "cell_type": "code",
   "execution_count": null,
   "id": "ce283285",
   "metadata": {
    "scrolled": true
   },
   "outputs": [],
   "source": [
    "file1 = open(f'ligands/Recalled_Drugs/{result_drugs[0]}_ideal.mol2', 'r')\n",
    "file_text = file1.read()\n",
    "\n",
    "print(file_text)"
   ]
  },
  {
   "cell_type": "markdown",
   "id": "af8d6cfd",
   "metadata": {},
   "source": [
    "### 3)\n",
    "\n",
    "Once you've confirmed that the file download occurred correctly, we can finish by downloading all of the files from the list we made previously into the folder we generated. The following block of code will perform this."
   ]
  },
  {
   "cell_type": "code",
   "execution_count": null,
   "id": "b9fdec86",
   "metadata": {},
   "outputs": [],
   "source": [
    "baseUrl = \"https://files.rcsb.org/ligands/download/\"\n",
    "\n",
    "for ChemID in result_drugs:\n",
    "    cFile = f\"{ChemID}.mol2\"\n",
    "    cFileUrl = baseUrl + cFile\n",
    "    cFileLocal = \"ligands/Recalled_Drugs/\" + cFile #Do we need to make a local file, or is it expected they will fill in the code? \n",
    "    response = requests.get(cFileUrl)\n",
    "    with open(cFileLocal, \"w+\") as file:\n",
    "        file.write(response.text)"
   ]
  },
  {
   "cell_type": "markdown",
   "id": "dca46802",
   "metadata": {},
   "source": [
    "## STI Bound\n",
    "\n",
    "### 1)\n",
    "\n",
    "The following code is a recreation of the search example on the RCSB Protein Data Bank shown [here](https://www.rcsb.org/search?request=%7B%22query%22%3A%7B%22type%22%3A%22group%22%2C%22logical_operator%22%3A%22and%22%2C%22nodes%22%3A%5B%7B%22type%22%3A%22group%22%2C%22logical_operator%22%3A%22and%22%2C%22nodes%22%3A%5B%7B%22type%22%3A%22group%22%2C%22nodes%22%3A%5B%7B%22type%22%3A%22terminal%22%2C%22service%22%3A%22text_chem%22%2C%22parameters%22%3A%7B%22attribute%22%3A%22drugbank_info.drug_products.approved%22%2C%22operator%22%3A%22exact_match%22%2C%22negation%22%3Afalse%2C%22value%22%3A%22Y%22%7D%7D%2C%7B%22type%22%3A%22terminal%22%2C%22service%22%3A%22text_chem%22%2C%22parameters%22%3A%7B%22attribute%22%3A%22drugbank_info.drug_products.country%22%2C%22operator%22%3A%22exact_match%22%2C%22negation%22%3Afalse%2C%22value%22%3A%22US%22%7D%7D%5D%2C%22logical_operator%22%3A%22and%22%7D%5D%2C%22label%22%3A%22text_chem%22%7D%5D%7D%2C%22return_type%22%3A%22mol_definition%22%2C%22request_options%22%3A%7B%22paginate%22%3A%7B%22start%22%3A0%2C%22rows%22%3A25%7D%2C%22results_content_type%22%3A%5B%22experimental%22%5D%2C%22sort%22%3A%5B%7B%22sort_by%22%3A%22score%22%2C%22direction%22%3A%22desc%22%7D%5D%2C%22scoring_strategy%22%3A%22combined%22%7D%2C%22request_info%22%3A%7B%22query_id%22%3A%226f325351daf2bdb517d029b864a98556%22%7D%7D) which is a search for structures that have the small molecule drug Gleevec or STI bounded to it. This search can be divided into 1 attribute:\n",
    "\n",
    "STI Bound\n",
    "\n",
    "The following code creates these two attributes, combines them into one 'query', then places the result in a list."
   ]
  },
  {
   "cell_type": "code",
   "execution_count": null,
   "id": "f6af3a2f",
   "metadata": {},
   "outputs": [],
   "source": [
    "q1Attribute = \"sti\"\n",
    " \n",
    "#q1 = AttributeQuery(attribute=\"rcsb.chem_comp_container_identifiers\", operator=\"in\", value=q1Attribute)\n",
    "q1 = attrs.rcsb_chem_comp_container_identifiers.comp_id == q1Attribute\n",
    "#Attribute for containing STI\n",
    "result_drugs = list(q1())"
   ]
  },
  {
   "cell_type": "markdown",
   "id": "965ef8fb",
   "metadata": {},
   "source": [
    "### 2a)\n",
    "\n",
    "We can check to make sure the list has been successfully created by printing the first 10 elements of the list. These 10 elements should be the same first ten elements seen on the RCSB RDB search."
   ]
  },
  {
   "cell_type": "code",
   "execution_count": null,
   "id": "8ca74a98",
   "metadata": {
    "scrolled": true
   },
   "outputs": [],
   "source": [
    "print(f\"The following structures are among the {len(result_drugs)} structures with Gleevec (aka STI) bound to it. {result_drugs[0:10]}\")"
   ]
  },
  {
   "cell_type": "markdown",
   "id": "9bcd228f",
   "metadata": {},
   "source": [
    "### 2b)\n",
    "\n",
    "Now, we can begin downloading the files from the list we made. First, download this element in the list and then check to see if it was downloaded successfully. Then, open the file to see if its contents and in line with what is expected from the download."
   ]
  },
  {
   "cell_type": "code",
   "execution_count": null,
   "id": "03d343ff",
   "metadata": {},
   "outputs": [],
   "source": [
    "test_validation = requests.get(f'https://files.rcsb.org/download/{result_drugs[0]}.cif')"
   ]
  },
  {
   "cell_type": "code",
   "execution_count": null,
   "id": "a3eb47ce",
   "metadata": {},
   "outputs": [],
   "source": [
    "test_validation.status_code"
   ]
  },
  {
   "cell_type": "markdown",
   "id": "c068567f",
   "metadata": {},
   "source": [
    "### 2c)\n",
    "\n",
    "To further check, we can create a file and then read the contents of the file. Creating the file includes the creation of a directory (folder) in order to store the folder, which will be called ligands."
   ]
  },
  {
   "cell_type": "code",
   "execution_count": null,
   "id": "175aea91",
   "metadata": {},
   "outputs": [],
   "source": [
    "os.makedirs(\"ligands/Structures_STI\", exist_ok=True) \n",
    "\n",
    "with open(f\"ligands/Structures_STI/{result_drugs[0]}.cif\", 'w+') as file:\n",
    "    file.write(test_validation.text)"
   ]
  },
  {
   "cell_type": "code",
   "execution_count": null,
   "id": "757f50bb",
   "metadata": {},
   "outputs": [],
   "source": [
    "file1 = open(f\"ligands/Structures_STI/{result_drugs[0]}.cif\", 'r')\n",
    "file_text = file1.read() \n",
    "\n",
    "print(file_text)"
   ]
  },
  {
   "cell_type": "markdown",
   "id": "c07fb27d",
   "metadata": {},
   "source": [
    "### 3)\n",
    "\n",
    "Once you've confirmed that the file download occurred correctly, we can finish by downloading all of the files from the list we made previously into the folder we generated. The following block of code will perform this."
   ]
  },
  {
   "cell_type": "code",
   "execution_count": null,
   "id": "a3e9d32b",
   "metadata": {},
   "outputs": [],
   "source": [
    "baseUrl = \"https://files.rcsb.org/download/\"\n",
    "\n",
    "for ChemID in result_drugs:\n",
    "    cFile = f\"{ChemID}.cif\"\n",
    "    cFileUrl = baseUrl + cFile\n",
    "    cFileLocal = \"ligands/Structures_STI/\" + cFile #Do we need to make a local file, or is it expected they will fill in the code? \n",
    "    response = requests.get(cFileUrl)\n",
    "    with open(cFileLocal, \"w+\") as file:\n",
    "        file.write(response.text)"
   ]
  },
  {
   "cell_type": "markdown",
   "id": "408f14b2",
   "metadata": {},
   "source": [
    "## Approved Ligands of Interest\n",
    "\n",
    "### 1)\n",
    "\n",
    "The following code is a recreation of the search example on the RCSB Protein Data Bank shown [here](https://www.rcsb.org/search?request=%7B%22query%22%3A%7B%22type%22%3A%22group%22%2C%22logical_operator%22%3A%22and%22%2C%22nodes%22%3A%5B%7B%22type%22%3A%22group%22%2C%22logical_operator%22%3A%22and%22%2C%22nodes%22%3A%5B%7B%22type%22%3A%22group%22%2C%22nodes%22%3A%5B%7B%22type%22%3A%22terminal%22%2C%22service%22%3A%22text_chem%22%2C%22parameters%22%3A%7B%22attribute%22%3A%22drugbank_info.drug_products.approved%22%2C%22operator%22%3A%22exact_match%22%2C%22negation%22%3Afalse%2C%22value%22%3A%22Y%22%7D%7D%2C%7B%22type%22%3A%22terminal%22%2C%22service%22%3A%22text_chem%22%2C%22parameters%22%3A%7B%22attribute%22%3A%22drugbank_info.drug_products.country%22%2C%22operator%22%3A%22exact_match%22%2C%22negation%22%3Afalse%2C%22value%22%3A%22US%22%7D%7D%5D%2C%22logical_operator%22%3A%22and%22%7D%5D%2C%22label%22%3A%22text_chem%22%7D%5D%7D%2C%22return_type%22%3A%22mol_definition%22%2C%22request_options%22%3A%7B%22paginate%22%3A%7B%22start%22%3A0%2C%22rows%22%3A25%7D%2C%22results_content_type%22%3A%5B%22experimental%22%5D%2C%22sort%22%3A%5B%7B%22sort_by%22%3A%22score%22%2C%22direction%22%3A%22desc%22%7D%5D%2C%22scoring_strategy%22%3A%22combined%22%7D%2C%22request_info%22%3A%7B%22query_id%22%3A%226f325351daf2bdb517d029b864a98556%22%7D%7D) which is a search for drugs currently used in the US market that have been declared Ligands of Interest (LoI). This search can be divided into 5 attributes:\n",
    "\n",
    "Approved for use in the market   \n",
    "United States\n",
    "Currently Available  \n",
    "Has Nonpolymer Entity Annotation   \n",
    "Nonpolymer Entity Annontation is Ligand of Interest\n",
    "\n",
    "The following code creates these two attributes, combines them into one 'query', then places the result in a list."
   ]
  },
  {
   "cell_type": "code",
   "execution_count": null,
   "id": "97b6d9f0",
   "metadata": {},
   "outputs": [],
   "source": [
    "market_approved = \"Y\" #this variable indicates certified approval at a national level\n",
    "country = \"US\" #this variable indicates which country is being referred to\n",
    "\n",
    "q1 = AttributeQuery(attribute=\"drugbank_info.drug_products.approved\", operator=\"exact_match\", value=market_approved, service=\"text_chem\")\n",
    "#Attribute for market approval\n",
    "q2 = AttributeQuery(attribute=\"drugbank_info.drug_products.country\", operator=\"exact_match\", value=country, service=\"text_chem\")\n",
    "#Attribute for country\n",
    "q3 = AttributeQuery(attribute=\"drugbank_info.drug_products.ended_marketing_on\", operator=\"exists\", service=\"text_chem\", negation=True)\n",
    "#Attribute for currently in the market\n",
    "q4 = AttributeQuery(attribute=\"rcsb_nonpolymer_entity_annotation.comp_id\", operator=\"exists\", service=STRUCTURE_ATTRIBUTE_SEARCH_SERVICE)\n",
    "#Attribute for having a Nonpolymer Entity Annotation\n",
    "q5 = AttributeQuery(attribute=\"rcsb_nonpolymer_entity_annotation.type\", operator=\"exact_match\", value=\"SUBJECT_OF_INVESTIGATION\", service=STRUCTURE_ATTRIBUTE_SEARCH_SERVICE)\n",
    "#Attribute for Nonpolymer Entity Annotation being Ligand of Interest\n",
    "\n",
    "\n",
    "chemical_query = q1 & q2 & q3 #Combining attributes into a single query\n",
    "\n",
    "structure_query = q4 & q5\n",
    "\n",
    "combined_query = q1 & q2 & q3 & q4 & q5\n",
    "result_entities = list(combined_query(\"non_polymer_entity\"))"
   ]
  },
  {
   "cell_type": "markdown",
   "id": "c54fe8b8",
   "metadata": {},
   "source": [
    "### 2a)\n",
    "\n",
    "We can check to make sure the list has been successfully created by printing the first 10 elements of the list. These 10 elements should be the same first ten elements seen on the RCSB RDB search."
   ]
  },
  {
   "cell_type": "code",
   "execution_count": null,
   "id": "26107391",
   "metadata": {
    "scrolled": false
   },
   "outputs": [],
   "source": [
    "print(f\"The following entities are among the {len(result_entities)} entities available in {country} that are labeled as Ligands of Interest: {result_entities[0:10]}\")\n",
    "print(result_entities[0])"
   ]
  },
  {
   "cell_type": "markdown",
   "id": "6f91a43a",
   "metadata": {},
   "source": [
    "### 2b)\n",
    "\n",
    "Now, we can begin downloading the files from the list we made. The results of this search need to first be slightly changed in order to verify and later download their files. THen, download this element in the list and then check to see if it was downloaded successfully. Then, open the file to see if its contents and in line with what is expected from the download."
   ]
  },
  {
   "cell_type": "code",
   "execution_count": null,
   "id": "510f7508",
   "metadata": {},
   "outputs": [],
   "source": [
    "i = 0\n",
    "\n",
    "while i < len(result_entities):\n",
    "    \n",
    "    if i != len(result_entities) - 1:\n",
    "        if result_entities[i][0:4] is result_entities[i+1][0:4]:\n",
    "            result_entities.remove(result_entities[i+1])\n",
    "            i = i + 1\n",
    "        else:\n",
    "            result_entities[i] = result_entities[i][0:4]\n",
    "            i = i + 1\n",
    "            #investigate alternate methods of downloading in order to see if this truncation is needed/needs to be changed\n",
    "    else:\n",
    "        result_entities[i] = result_entities[i][0:4]\n",
    "        i = i + 1\n",
    "            \n",
    "test_validation = requests.get(f'https://files.rcsb.org/download/{result_entities[0]}.cif')"
   ]
  },
  {
   "cell_type": "code",
   "execution_count": null,
   "id": "83fd9b98",
   "metadata": {},
   "outputs": [],
   "source": [
    "test_validation.status_code"
   ]
  },
  {
   "cell_type": "markdown",
   "id": "75069074",
   "metadata": {},
   "source": [
    "### 2c)\n",
    "\n",
    "To further check, we can create a file and then read the contents of the file. Creating the file includes the creation of a directory (folder) in order to store the folder, which will be called ligands."
   ]
  },
  {
   "cell_type": "code",
   "execution_count": null,
   "id": "b3b1b7b6",
   "metadata": {},
   "outputs": [],
   "source": [
    "os.makedirs(\"ligands/Current_US_Market_LOI\", exist_ok=True) \n",
    "\n",
    "with open(f\"ligands/Current_US_Market_LOI/{result_entities}.cif\", 'w+') as file:\n",
    "    file.write(test_validation.text)"
   ]
  },
  {
   "cell_type": "code",
   "execution_count": null,
   "id": "822d3dfc",
   "metadata": {},
   "outputs": [],
   "source": [
    "file1 = open(f\"ligands/Structures_STI/{result_entities}.cif\", 'r')\n",
    "file_text = file1.read() \n",
    "\n",
    "print(file_text)"
   ]
  },
  {
   "cell_type": "markdown",
   "id": "37489677",
   "metadata": {},
   "source": [
    "### 3)\n",
    "\n",
    "Once you've confirmed that the file download occurred correctly, we can finish by downloading all of the files from the list we made previously into the folder we generated. The following block of code will perform this."
   ]
  },
  {
   "cell_type": "code",
   "execution_count": null,
   "id": "27ce4e54",
   "metadata": {},
   "outputs": [],
   "source": [
    "baseUrl = \"https://files.rcsb.org/download/\"\n",
    "\n",
    "for ChemID in result_drugs:\n",
    "    cFile = f\"{ChemID}.cif\"\n",
    "    cFileUrl = baseUrl + cFile\n",
    "    cFileLocal = \"ligands/Current_US_Market_LOI/\" + cFile #Do we need to make a local file, or is it expected they will fill in the code? \n",
    "    response = requests.get(cFileUrl)\n",
    "    with open(cFileLocal, \"w+\") as file:\n",
    "        file.write(response.text)"
   ]
  }
 ],
 "metadata": {
  "kernelspec": {
   "display_name": "Python 3 (ipykernel)",
   "language": "python",
   "name": "python3"
  },
  "language_info": {
   "codemirror_mode": {
    "name": "ipython",
    "version": 3
   },
   "file_extension": ".py",
   "mimetype": "text/x-python",
   "name": "python",
   "nbconvert_exporter": "python",
   "pygments_lexer": "ipython3",
   "version": "3.11.5"
  }
 },
 "nbformat": 4,
 "nbformat_minor": 5
}