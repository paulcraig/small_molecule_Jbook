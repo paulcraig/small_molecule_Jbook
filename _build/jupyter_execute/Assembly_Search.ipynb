{
 "cells": [
  {
   "cell_type": "markdown",
   "id": "4b430f13",
   "metadata": {},
   "source": [
    "# Assemblies"
   ]
  },
  {
   "cell_type": "markdown",
   "id": "6e818d6a",
   "metadata": {},
   "source": [
    "## Purpose\n",
    "\n",
    "The RCSB PDB is the repository for all publicly available experimentally determined protein structures in the world. This notebook is made in order to demonstrate and elaborate on how to use the rcsbsearchapi Python library to recreate Advanced Searches from the RCSB PDB in Python. Further, this notebook will show how to download the files of the results of these searches, also in Python. This will be done through searching particularly for different assemblies represented in the RCSB PDB, with each search demonstrating a different way of utilizing the Advanced Search tool."
   ]
  },
  {
   "cell_type": "markdown",
   "id": "7c7a2ad3",
   "metadata": {},
   "source": [
    "## Steps Taken\n",
    "\n",
    "The following is a step-by-step explanation of what will be performed for each code example.\n",
    "\n",
    "### 1) Creating the Search\n",
    "\n",
    "An explanation of what the search is describing will be followed by the creation of a RCSB PDB Search.\n",
    "\n",
    "### 2a) Validation By List\n",
    "\n",
    "The search is tested for functionality by analyzing the first 10 results of the search in a list.\n",
    "\n",
    "### 2b) Validation By File Request\n",
    "\n",
    "The search is tested for functionality by requesting the file of the first search result. This is the step where the results will be changed if needed for the sake of requesting and downloading their corresponding file.\n",
    "\n",
    "### 2c) Validation By File Download\n",
    "\n",
    "The search is tested for functionality by downloading and reading the contents of the first search result's file. This includes the generation of a folder for the files of the search result.\n",
    "\n",
    "### 3) Complete Search Download\n",
    "\n",
    "Following validation, each file in the search result is downloaded into the previously generated file."
   ]
  },
  {
   "cell_type": "markdown",
   "id": "ba6b008d",
   "metadata": {},
   "source": [
    "## Importing Libraries\n",
    "\n",
    "A list of libraries that will need to be installed and imported to complete the tasks in the notebook.\n",
    "\n",
    "| Library | Contents | Source |\n",
    "| :-----: | :------- | :----- |\n",
    "| rcsbsearchapi | library for automated searching of the [RCSB Protein Data Bank](https://www.rcsb.org)| [py-rcsbsearchapi on GitHub](https://github.com/rcsb/py-rcsbsearchapi) |\n",
    "| requests | library for sending HTTP requests | [requests Documentation](https://requests.readthedocs.io/en/latest/) |\n",
    "| os | standard library for creating directories | [os Documentation](https://docs.python.org/3/library/os.html) |"
   ]
  },
  {
   "cell_type": "markdown",
   "id": "5c65cfb2",
   "metadata": {},
   "source": [
    "## Installation\n",
    "\n",
    "These libraries will need to be installed in your computing environment to perform the tasks in this notebook.\n",
    "\n",
    "To install from the command line on your computer, use this command (with the `requests` library as the example):\n",
    "\n",
    "`pip install requests`\n",
    "\n",
    "To install from within a Jupyter notebook or CoLab notebook, you need to type the same command in a coding cell, preceded by an exclamation point.\n",
    "\n",
    "`!pip install requests`\n",
    "\n",
    "These libraries will be imported as they are needed over the course of this notebook.\n"
   ]
  },
  {
   "cell_type": "code",
   "execution_count": null,
   "id": "e7de5707",
   "metadata": {},
   "outputs": [],
   "source": [
    "# Import the components of rcsbsearchapi needed for this search\n",
    "from rcsbsearchapi import rcsb_attributes as attrs\n",
    "# For Operator notation\n",
    "\n",
    "from rcsbsearchapi.const import CHEMICAL_ATTRIBUTE_SEARCH_SERVICE, STRUCTURE_ATTRIBUTE_SEARCH_SERVICE\n",
    "from rcsbsearchapi.search import AttributeQuery, Attr, TextQuery, StructSimilarityQuery\n",
    "# For Fluent notation\n",
    "\n",
    "import requests  # to enable us to pull files from the PDB\n",
    "import os        # to enable us to create a directory to store the files"
   ]
  },
  {
   "cell_type": "markdown",
   "id": "42ffa090",
   "metadata": {},
   "source": [
    "## Total Polymers in Biological Assembly\n",
    "\n",
    "### 1)\n",
    "\n",
    "The following code is a recreation of the search example on the RCSB Protein Data Bank shown [here](https://www.rcsb.org/search?request=%7B%22query%22%3A%7B%22type%22%3A%22group%22%2C%22logical_operator%22%3A%22and%22%2C%22nodes%22%3A%5B%7B%22type%22%3A%22group%22%2C%22logical_operator%22%3A%22and%22%2C%22nodes%22%3A%5B%7B%22type%22%3A%22group%22%2C%22logical_operator%22%3A%22and%22%2C%22nodes%22%3A%5B%7B%22type%22%3A%22terminal%22%2C%22service%22%3A%22text%22%2C%22parameters%22%3A%7B%22operator%22%3A%22equals%22%2C%22negation%22%3Afalse%2C%22value%22%3A12%2C%22attribute%22%3A%22rcsb_assembly_info.polymer_entity_instance_count%22%7D%7D%5D%7D%5D%2C%22label%22%3A%22text%22%7D%5D%2C%22label%22%3A%22query-builder%22%7D%2C%22return_type%22%3A%22assembly%22%2C%22request_options%22%3A%7B%22paginate%22%3A%7B%22start%22%3A0%2C%22rows%22%3A100%7D%2C%22scoring_strategy%22%3A%22combined%22%2C%22sort%22%3A%5B%7B%22sort_by%22%3A%22score%22%2C%22direction%22%3A%22desc%22%7D%5D%2C%22results_content_type%22%3A%5B%22experimental%22%5D%7D%2C%22request_info%22%3A%7B%22query_id%22%3A%22c8e2869a9b79b9d79d3955b5c9009713%22%7D%7D) which is a search of the total polymers in biological assembly. This search can be divided into 1 attribute:\n",
    "\n",
    "Number of polymers: 12"
   ]
  },
  {
   "cell_type": "code",
   "execution_count": null,
   "id": "5cdbc29f",
   "metadata": {},
   "outputs": [],
   "source": [
    "q1 = AttributeQuery(attribute=\"rcsb_assembly_info.polymer_entity_instance_count\", operator=\"equals\", value=12)\n",
    "\n",
    "result_polymers = list(q1(\"assembly\"))"
   ]
  },
  {
   "cell_type": "markdown",
   "id": "a8267363",
   "metadata": {},
   "source": [
    "### 2a)\n",
    "\n",
    "We can check to make sure the list has been successfully created by printing the first 10 elements of the list. These 10 elements should be the same first ten elements seen on the RCSB RDB search."
   ]
  },
  {
   "cell_type": "code",
   "execution_count": null,
   "id": "66175f90",
   "metadata": {
    "scrolled": true
   },
   "outputs": [],
   "source": [
    "print(f\"The following drugs are among the {len(result_polymers)} polymers in biological assembly:\", result_polymers[0:10])"
   ]
  },
  {
   "cell_type": "markdown",
   "id": "3d1faa87",
   "metadata": {},
   "source": [
    "### 2b)\n",
    "\n",
    "Now, we can begin downloading the files from the list we made. First, download this element in the list and then check to see if it was downloaded successfully. Then, open the file to see if its contents and in line with what is expected from the download.\n",
    "\n",
    "Additionally, because our search gives results that aren't perfectly aligned with their corresponding file's name, we need to truncate the name to match the file name."
   ]
  },
  {
   "cell_type": "code",
   "execution_count": null,
   "id": "418e07be",
   "metadata": {
    "scrolled": true
   },
   "outputs": [],
   "source": [
    "i = 0\n",
    "while i < len(result_polymers):\n",
    "    result_polymers[i] = result_polymers[i][0:4]\n",
    "    i += 1\n",
    "\n",
    "test_validation = requests.get(f'https://files.rcsb.org/download/{result_polymers[0]}.cif')\n",
    "print(result_polymers[0])"
   ]
  },
  {
   "cell_type": "code",
   "execution_count": null,
   "id": "b6c591ad",
   "metadata": {
    "scrolled": true
   },
   "outputs": [],
   "source": [
    "test_validation.status_code"
   ]
  },
  {
   "cell_type": "markdown",
   "id": "dcdc705b",
   "metadata": {},
   "source": [
    "### 2c)\n",
    "\n",
    "To further check, we can create a file and then read the contents of the file. Creating the file includes the creation of a directory (folder) in order to store the folder, which will be called ligands."
   ]
  },
  {
   "cell_type": "code",
   "execution_count": null,
   "id": "f5fa8eed",
   "metadata": {},
   "outputs": [],
   "source": [
    "os.makedirs(\"assemblies/Biological_Assembly\", exist_ok=True) \n",
    "\n",
    "with open(f\"assemblies/Biological_Assembly/{result_polymers[0]}.cif\", 'w+') as file:\n",
    "    file.write(test_validation.text)"
   ]
  },
  {
   "cell_type": "code",
   "execution_count": null,
   "id": "76fb6abc",
   "metadata": {},
   "outputs": [],
   "source": [
    "file1 = open(f\"assemblies/Biological_Assembly/{result_polymers[0]}.cif\", 'r')\n",
    "file_text = file1.read() \n",
    "\n",
    "print(file_text)"
   ]
  },
  {
   "cell_type": "markdown",
   "id": "1dbccbe9",
   "metadata": {},
   "source": [
    "### 3)\n",
    "\n",
    "Once you've confirmed that the file download occurred correctly, we can finish by downloading all of the files from the list we made previously into the folder we generated. The following block of code will perform this."
   ]
  },
  {
   "cell_type": "code",
   "execution_count": null,
   "id": "91c50f72",
   "metadata": {},
   "outputs": [],
   "source": [
    "baseUrl = \"https://files.rcsb.org/download/\"\n",
    "\n",
    "for ChemID in result_polymers:\n",
    "    cFile = f\"{ChemID}.cif\"\n",
    "    cFileUrl = baseUrl + cFile\n",
    "    cFileLocal = \"assemblies/Biological_Assembly/\" + cFile #Do we need to make a local file, or is it expected they will fill in the code? \n",
    "    response = requests.get(cFileUrl)\n",
    "    with open(cFileLocal, \"w+\") as file:\n",
    "        file.write(response.text)"
   ]
  },
  {
   "cell_type": "markdown",
   "id": "eaa70e1c",
   "metadata": {},
   "source": [
    "## Single Protein Chain\n",
    "\n",
    "### 1)\n",
    "\n",
    "The following code is a recreation of the search example on the RCSB Protein Data Bank shown [here](https://www.rcsb.org/search?request=%7B%22query%22%3A%7B%22type%22%3A%22group%22%2C%22logical_operator%22%3A%22and%22%2C%22nodes%22%3A%5B%7B%22type%22%3A%22group%22%2C%22logical_operator%22%3A%22and%22%2C%22nodes%22%3A%5B%7B%22type%22%3A%22group%22%2C%22logical_operator%22%3A%22and%22%2C%22nodes%22%3A%5B%7B%22type%22%3A%22terminal%22%2C%22service%22%3A%22text%22%2C%22parameters%22%3A%7B%22operator%22%3A%22equals%22%2C%22negation%22%3Afalse%2C%22value%22%3A1%2C%22attribute%22%3A%22rcsb_assembly_info.polymer_entity_instance_count%22%7D%7D%2C%7B%22type%22%3A%22terminal%22%2C%22service%22%3A%22text%22%2C%22parameters%22%3A%7B%22operator%22%3A%22equals%22%2C%22negation%22%3Afalse%2C%22value%22%3A1%2C%22attribute%22%3A%22rcsb_assembly_info.polymer_entity_instance_count_protein%22%7D%7D%2C%7B%22type%22%3A%22terminal%22%2C%22service%22%3A%22text%22%2C%22parameters%22%3A%7B%22operator%22%3A%22range%22%2C%22negation%22%3Afalse%2C%22value%22%3A%7B%22from%22%3A350%2C%22to%22%3A400%2C%22include_lower%22%3Atrue%2C%22include_upper%22%3Atrue%7D%2C%22attribute%22%3A%22rcsb_assembly_info.polymer_monomer_count%22%7D%7D%5D%7D%5D%2C%22label%22%3A%22text%22%7D%5D%2C%22label%22%3A%22query-builder%22%7D%2C%22return_type%22%3A%22assembly%22%2C%22request_options%22%3A%7B%22paginate%22%3A%7B%22start%22%3A0%2C%22rows%22%3A100%7D%2C%22scoring_strategy%22%3A%22combined%22%2C%22sort%22%3A%5B%7B%22sort_by%22%3A%22score%22%2C%22direction%22%3A%22desc%22%7D%5D%2C%22results_content_type%22%3A%5B%22experimental%22%5D%7D%2C%22request_info%22%3A%7B%22query_id%22%3A%221c00017375f2a0562f492bb208ab74df%22%7D%7D) which is a search of biological assemblies that have a single protein chain with 350-400 residues. This search can be divided into 3 attributes:\n",
    "\n",
    "Single chain\n",
    "Chain is a protein chain\n",
    "350 - 400 residues\n",
    "\n",
    "The following code creates these three attributes, combines them into one 'query', then places the result in a list."
   ]
  },
  {
   "cell_type": "code",
   "execution_count": null,
   "id": "ddea5beb",
   "metadata": {},
   "outputs": [],
   "source": [
    "q1 = AttributeQuery(attribute=\"rcsb_assembly_info.polymer_entity_instance_count\", operator=\"equals\", value=1)\n",
    "\n",
    "q2 = AttributeQuery(attribute=\"rcsb_assembly_info.polymer_entity_instance_count_protein\", operator=\"equals\", value=1)\n",
    "\n",
    "q3_1 = attrs.rcsb_assembly_info.polymer_monomer_count >= 350\n",
    "q3_2 = attrs.rcsb_assembly_info.polymer_monomer_count <= 400\n",
    "\n",
    "query = q1 & q2 & q3_1 & q3_2\n",
    "result_polymers = list(query(\"assembly\"))"
   ]
  },
  {
   "cell_type": "markdown",
   "id": "4c85c988",
   "metadata": {},
   "source": [
    "### 2a)\n",
    "\n",
    "We can check to make sure the list has been successfully created by printing the first 10 elements of the list. These 10 elements should be the same first ten elements seen on the RCSB RDB search."
   ]
  },
  {
   "cell_type": "code",
   "execution_count": null,
   "id": "a2e9ebe7",
   "metadata": {},
   "outputs": [],
   "source": [
    "print(f\"The following drugs are among the {len(result_polymers)} polymers with a single protein chain:\", result_polymers[0:10])"
   ]
  },
  {
   "cell_type": "markdown",
   "id": "4500df8e",
   "metadata": {},
   "source": [
    "### 2b)\n",
    "\n",
    "Now, we can begin downloading the files from the list we made. First, download this element in the list and then check to see if it was downloaded successfully. Then, open the file to see if its contents and in line with what is expected from the download."
   ]
  },
  {
   "cell_type": "code",
   "execution_count": null,
   "id": "5032e828",
   "metadata": {},
   "outputs": [],
   "source": [
    "i = 0\n",
    "while i < len(result_polymers):\n",
    "    result_polymers[i] = result_polymers[i][0:4]\n",
    "    i += 1\n",
    "\n",
    "test_validation = requests.get(f'https://files.rcsb.org/download/{result_polymers[0]}.cif')\n",
    "print(result_polymers[0])"
   ]
  },
  {
   "cell_type": "code",
   "execution_count": null,
   "id": "2b7743cb",
   "metadata": {},
   "outputs": [],
   "source": [
    "test_validation.status_code"
   ]
  },
  {
   "cell_type": "markdown",
   "id": "af532453",
   "metadata": {},
   "source": [
    "### 2c)\n",
    "\n",
    "To further check, we can create a file and then read the contents of the file. Creating the file includes the creation of a directory (folder) in order to store the folder, which will be called ligands."
   ]
  },
  {
   "cell_type": "code",
   "execution_count": null,
   "id": "f65e3f34",
   "metadata": {},
   "outputs": [],
   "source": [
    "os.makedirs(\"assemblies/Single_Protein_Chain\", exist_ok=True) \n",
    "\n",
    "with open(f\"assemblies/Single_Protein_Chain/{result_polymers[0]}.cif\", 'w+') as file:\n",
    "    file.write(test_validation.text)"
   ]
  },
  {
   "cell_type": "code",
   "execution_count": null,
   "id": "476eabfe",
   "metadata": {},
   "outputs": [],
   "source": [
    "file1 = open(f\"assemblies/Single_Protein_Chain/{result_polymers[0]}.cif\", 'r')\n",
    "file_text = file1.read() \n",
    "\n",
    "print(file_text)"
   ]
  },
  {
   "cell_type": "markdown",
   "id": "f54302db",
   "metadata": {},
   "source": [
    "### 3)\n",
    "\n",
    "Once you've confirmed that the file download occurred correctly, we can finish by downloading all of the files from the list we made previously into the folder we generated. The following block of code will perform this."
   ]
  },
  {
   "cell_type": "code",
   "execution_count": null,
   "id": "ef3a27d1",
   "metadata": {},
   "outputs": [],
   "source": [
    "baseUrl = \"https://files.rcsb.org/download/\"\n",
    "\n",
    "for ChemID in result_polymers:\n",
    "    cFile = f\"{ChemID}.cif\"\n",
    "    cFileUrl = baseUrl + cFile\n",
    "    cFileLocal = \"assemblies/Biological_Assembly/\" + cFile #Do we need to make a local file, or is it expected they will fill in the code? \n",
    "    response = requests.get(cFileUrl)\n",
    "    with open(cFileLocal, \"w+\") as file:\n",
    "        file.write(response.text)"
   ]
  },
  {
   "cell_type": "markdown",
   "id": "8a77660a",
   "metadata": {},
   "source": [
    "## 24 Identical Chains\n",
    "\n",
    "### 1)\n",
    "\n",
    "The following code is a recreation of the search example on the RCSB Protein Data Bank shown [here](https://www.rcsb.org/search?request=%7B%22query%22%3A%7B%22type%22%3A%22group%22%2C%22logical_operator%22%3A%22and%22%2C%22nodes%22%3A%5B%7B%22type%22%3A%22group%22%2C%22logical_operator%22%3A%22and%22%2C%22nodes%22%3A%5B%7B%22type%22%3A%22group%22%2C%22logical_operator%22%3A%22and%22%2C%22nodes%22%3A%5B%7B%22type%22%3A%22terminal%22%2C%22service%22%3A%22text%22%2C%22parameters%22%3A%7B%22operator%22%3A%22exact_match%22%2C%22negation%22%3Afalse%2C%22value%22%3A%22Homo%2024-mer%22%2C%22attribute%22%3A%22rcsb_struct_symmetry.oligomeric_state%22%7D%7D%5D%7D%5D%2C%22label%22%3A%22text%22%7D%5D%2C%22label%22%3A%22query-builder%22%7D%2C%22return_type%22%3A%22assembly%22%2C%22request_options%22%3A%7B%22paginate%22%3A%7B%22start%22%3A0%2C%22rows%22%3A100%7D%2C%22scoring_strategy%22%3A%22combined%22%2C%22sort%22%3A%5B%7B%22sort_by%22%3A%22score%22%2C%22direction%22%3A%22desc%22%7D%5D%2C%22results_content_type%22%3A%5B%22experimental%22%5D%7D%2C%22request_info%22%3A%7B%22query_id%22%3A%229c66f6bfea1407cc71d25812786a9dc1%22%7D%7D) which is a search of biological assemblies that have 24 identical chains. This search can be divided into 1 attribute:\n",
    "\n",
    "24 identical chains"
   ]
  },
  {
   "cell_type": "code",
   "execution_count": null,
   "id": "1f1e62d5",
   "metadata": {},
   "outputs": [],
   "source": [
    "q1 = AttributeQuery(attribute=\"rcsb_struct_symmetry.oligomeric_state\", operator=\"exact_match\", value=\"Homo 24-mer\")\n",
    "\n",
    "result_polymers = list(q1(\"assembly\"))"
   ]
  },
  {
   "cell_type": "markdown",
   "id": "22a8e62c",
   "metadata": {},
   "source": [
    "### 2a)\n",
    "\n",
    "We can check to make sure the list has been successfully created by printing the first 10 elements of the list. These 10 elements should be the same first ten elements seen on the RCSB RDB search."
   ]
  },
  {
   "cell_type": "code",
   "execution_count": null,
   "id": "4eef6a1e",
   "metadata": {},
   "outputs": [],
   "source": [
    "print(f\"The following drugs are among the {len(result_polymers)} polymers that contain exactly 24 identical chains:\", result_polymers[0:10])"
   ]
  },
  {
   "cell_type": "markdown",
   "id": "bb594082",
   "metadata": {},
   "source": [
    "### 2b)\n",
    "\n",
    "Now, we can begin downloading the files from the list we made. First, download this element in the list and then check to see if it was downloaded successfully. Then, open the file to see if its contents and in line with what is expected from the download."
   ]
  },
  {
   "cell_type": "code",
   "execution_count": null,
   "id": "d33b596b",
   "metadata": {},
   "outputs": [],
   "source": [
    "i = 0\n",
    "while i < len(result_polymers):\n",
    "    result_polymers[i] = result_polymers[i][0:4]\n",
    "    i += 1\n",
    "\n",
    "test_validation = requests.get(f'https://files.rcsb.org/download/{result_polymers[0]}.cif')\n",
    "print(result_polymers[0])"
   ]
  },
  {
   "cell_type": "code",
   "execution_count": null,
   "id": "b1de0630",
   "metadata": {},
   "outputs": [],
   "source": [
    "test_validation.status_code"
   ]
  },
  {
   "cell_type": "markdown",
   "id": "c05d27b3",
   "metadata": {},
   "source": [
    "### 2c)\n",
    "\n",
    "To further check, we can create a file and then read the contents of the file. Creating the file includes the creation of a directory (folder) in order to store the folder, which will be called ligands."
   ]
  },
  {
   "cell_type": "code",
   "execution_count": null,
   "id": "594fb22b",
   "metadata": {},
   "outputs": [],
   "source": [
    "os.makedirs(\"assemblies/24_Identical_Chains\", exist_ok=True) \n",
    "\n",
    "with open(f\"assemblies/24_Identical_Chains/{result_polymers[0]}.cif\", 'w+') as file:\n",
    "    file.write(test_validation.text)"
   ]
  },
  {
   "cell_type": "code",
   "execution_count": null,
   "id": "b0148dc2",
   "metadata": {},
   "outputs": [],
   "source": [
    "file1 = open(f\"assemblies/24_Identical_Chains/{result_polymers[0]}.cif\", 'r')\n",
    "file_text = file1.read() \n",
    "\n",
    "print(file_text)"
   ]
  },
  {
   "cell_type": "markdown",
   "id": "63f71ad8",
   "metadata": {},
   "source": [
    "### 3)\n",
    "\n",
    "Once you've confirmed that the file download occurred correctly, we can finish by downloading all of the files from the list we made previously into the folder we generated. The following block of code will perform this."
   ]
  },
  {
   "cell_type": "code",
   "execution_count": null,
   "id": "972113f3",
   "metadata": {},
   "outputs": [],
   "source": [
    "baseUrl = \"https://files.rcsb.org/download/\"\n",
    "\n",
    "for ChemID in result_polymers:\n",
    "    cFile = f\"{ChemID}.cif\"\n",
    "    cFileUrl = baseUrl + cFile\n",
    "    cFileLocal = \"assemblies/24_Identical_Chains/\" + cFile #Do we need to make a local file, or is it expected they will fill in the code? \n",
    "    response = requests.get(cFileUrl)\n",
    "    with open(cFileLocal, \"w+\") as file:\n",
    "        file.write(response.text)"
   ]
  },
  {
   "cell_type": "markdown",
   "id": "0da57456",
   "metadata": {},
   "source": [
    "## Immunoglobulin Fab Fragments to Dimeric Antigen\n",
    "\n",
    "### 1)\n",
    "\n",
    "The following code is a recreation of the search example on the RCSB Protein Data Bank shown [here](https://www.rcsb.org/search?request=%7B%22query%22%3A%7B%22type%22%3A%22group%22%2C%22logical_operator%22%3A%22and%22%2C%22nodes%22%3A%5B%7B%22type%22%3A%22group%22%2C%22logical_operator%22%3A%22and%22%2C%22nodes%22%3A%5B%7B%22type%22%3A%22group%22%2C%22nodes%22%3A%5B%7B%22type%22%3A%22terminal%22%2C%22service%22%3A%22text%22%2C%22parameters%22%3A%7B%22attribute%22%3A%22rcsb_entry_info.polymer_entity_count_protein%22%2C%22operator%22%3A%22equals%22%2C%22negation%22%3Afalse%2C%22value%22%3A3%7D%7D%2C%7B%22type%22%3A%22terminal%22%2C%22service%22%3A%22text%22%2C%22parameters%22%3A%7B%22attribute%22%3A%22rcsb_assembly_info.polymer_entity_instance_count%22%2C%22operator%22%3A%22equals%22%2C%22negation%22%3Afalse%2C%22value%22%3A6%7D%7D%5D%2C%22logical_operator%22%3A%22and%22%7D%5D%2C%22label%22%3A%22text%22%7D%2C%7B%22type%22%3A%22terminal%22%2C%22service%22%3A%22structure%22%2C%22parameters%22%3A%7B%22operator%22%3A%22strict_shape_match%22%2C%22value%22%3A%7B%22entry_id%22%3A%221BJ1%22%2C%22asym_id%22%3A%22A%22%7D%7D%7D%5D%7D%2C%22return_type%22%3A%22entry%22%2C%22request_info%22%3A%7B%22query_id%22%3A%228248067268094d3dfb85da133bd86681%22%7D%2C%22request_options%22%3A%7B%22scoring_strategy%22%3A%22combined%22%2C%22sort%22%3A%5B%7B%22sort_by%22%3A%22score%22%2C%22direction%22%3A%22desc%22%7D%5D%2C%22paginate%22%3A%7B%22start%22%3A0%2C%22rows%22%3A25%7D%2C%22results_content_type%22%3A%5B%22experimental%22%5D%7D%7D) which is a search of immunoglobin Fab fragments bound to a dimeric antigen. This search can be divided into 3 attributes:\n",
    "\n",
    "6 polymer entity instances (2 Fab heavy chains, 2 Fab light chains, 2 antigen chains)\n",
    "3 polymer entities (Fab heavy chain, Fab light chain, antigen chain)\n",
    "Structure similarity to 1bj1, chain A\n",
    "\n",
    "\n",
    "The following code creates these three attributes, combines them into one 'query', then places the result in a list."
   ]
  },
  {
   "cell_type": "code",
   "execution_count": null,
   "id": "fe023389",
   "metadata": {},
   "outputs": [],
   "source": [
    "q1 = AttributeQuery(attribute=\"rcsb_assembly_info.polymer_entity_instance_count\", operator=\"equals\", value=6)\n",
    "\n",
    "q2 = AttributeQuery(attribute=\"rcsb_entry_info.polymer_entity_count_protein\", operator=\"equals\", value=3)\n",
    "\n",
    "q3 = StructSimilarityQuery(entry_id = \"1BJ1\", structure_input_type=\"chain_id\", chain_id=\"A\", target_search_space=\"polymer_entity_instance\")\n",
    "\n",
    "query = q1 & q2 & q3 \n",
    "result_polymers = list(query(\"entry\"))"
   ]
  },
  {
   "cell_type": "markdown",
   "id": "1d398911",
   "metadata": {},
   "source": [
    "### 2a)\n",
    "\n",
    "We can check to make sure the list has been successfully created by printing the first 10 elements of the list. These 10 elements should be the same first ten elements seen on the RCSB RDB search."
   ]
  },
  {
   "cell_type": "code",
   "execution_count": null,
   "id": "2f3ff9f2",
   "metadata": {
    "scrolled": true
   },
   "outputs": [],
   "source": [
    "print(f\"The following drugs are among the {len(result_polymers)} polymers immunoglobulin fab fragments connected to dimeric antigen:\", result_polymers[0:10])"
   ]
  },
  {
   "cell_type": "markdown",
   "id": "6f3ceeb1",
   "metadata": {},
   "source": [
    "### 2b)\n",
    "\n",
    "Now, we can begin downloading the files from the list we made. First, download this element in the list and then check to see if it was downloaded successfully. Then, open the file to see if its contents and in line with what is expected from the download."
   ]
  },
  {
   "cell_type": "code",
   "execution_count": null,
   "id": "6672cf77",
   "metadata": {},
   "outputs": [],
   "source": [
    "test_validation = requests.get(f'https://files.rcsb.org/download/{result_polymers[0]}.cif')\n",
    "print(result_polymers[0])"
   ]
  },
  {
   "cell_type": "code",
   "execution_count": null,
   "id": "b6bf1f04",
   "metadata": {
    "scrolled": true
   },
   "outputs": [],
   "source": [
    "test_validation.status_code"
   ]
  },
  {
   "cell_type": "markdown",
   "id": "4cdbd229",
   "metadata": {},
   "source": [
    "### 2c)\n",
    "\n",
    "To further check, we can create a file and then read the contents of the file. Creating the file includes the creation of a directory (folder) in order to store the folder, which will be called ligands."
   ]
  },
  {
   "cell_type": "code",
   "execution_count": null,
   "id": "a826491f",
   "metadata": {},
   "outputs": [],
   "source": [
    "os.makedirs(\"assemblies/Immunoglobin_Fab\", exist_ok=True) \n",
    "\n",
    "with open(f\"assemblies/Immunoglobin_Fab/{result_polymers[0]}.cif\", 'w+') as file:\n",
    "    file.write(test_validation.text)"
   ]
  },
  {
   "cell_type": "code",
   "execution_count": null,
   "id": "15484c80",
   "metadata": {},
   "outputs": [],
   "source": [
    "file1 = open(f\"assemblies/Immunoglobin_Fab/{result_polymers[0]}.cif\", 'r')\n",
    "file_text = file1.read() \n",
    "\n",
    "print(file_text)"
   ]
  },
  {
   "cell_type": "markdown",
   "id": "45f5f9c5",
   "metadata": {},
   "source": [
    "### 3)\n",
    "\n",
    "Once you've confirmed that the file download occurred correctly, we can finish by downloading all of the files from the list we made previously into the folder we generated. The following block of code will perform this."
   ]
  },
  {
   "cell_type": "code",
   "execution_count": null,
   "id": "00ca5a18",
   "metadata": {},
   "outputs": [],
   "source": [
    "baseUrl = \"https://files.rcsb.org/download/\"\n",
    "\n",
    "for ChemID in result_polymers:\n",
    "    cFile = f\"{ChemID}.cif\"\n",
    "    cFileUrl = baseUrl + cFile\n",
    "    cFileLocal = \"assemblies/Immunoglobin_Fab/\" + cFile #Do we need to make a local file, or is it expected they will fill in the code? \n",
    "    response = requests.get(cFileUrl)\n",
    "    with open(cFileLocal, \"w+\") as file:\n",
    "        file.write(response.text)"
   ]
  },
  {
   "cell_type": "markdown",
   "id": "4510d397",
   "metadata": {},
   "source": [
    "## One Heavy Water\n",
    "\n",
    "### 1)\n",
    "\n",
    "The following code is a recreation of the search example on the RCSB Protein Data Bank shown [here](https://www.rcsb.org/search?request=%7B%22query%22%3A%7B%22type%22%3A%22group%22%2C%22nodes%22%3A%5B%7B%22type%22%3A%22group%22%2C%22logical_operator%22%3A%22and%22%2C%22nodes%22%3A%5B%7B%22type%22%3A%22group%22%2C%22nodes%22%3A%5B%7B%22type%22%3A%22terminal%22%2C%22service%22%3A%22text%22%2C%22parameters%22%3A%7B%22attribute%22%3A%22rcsb_assembly_info.deuterated_water_count%22%2C%22operator%22%3A%22greater_or_equal%22%2C%22negation%22%3Afalse%2C%22value%22%3A1%7D%7D%5D%2C%22logical_operator%22%3A%22and%22%7D%5D%2C%22label%22%3A%22text%22%7D%5D%2C%22logical_operator%22%3A%22and%22%7D%2C%22return_type%22%3A%22assembly%22%2C%22request_options%22%3A%7B%22paginate%22%3A%7B%22start%22%3A0%2C%22rows%22%3A25%7D%2C%22results_content_type%22%3A%5B%22experimental%22%5D%2C%22sort%22%3A%5B%7B%22sort_by%22%3A%22score%22%2C%22direction%22%3A%22desc%22%7D%5D%2C%22scoring_strategy%22%3A%22combined%22%7D%2C%22request_info%22%3A%7B%22query_id%22%3A%22f393a5ca40427895ca85117b8db0e69b%22%7D%7D) which is a search for assemblies that contain at least one heavy water. This search can be divided into 1 attribute:\n",
    "\n",
    "Deuterated water count >= 11"
   ]
  },
  {
   "cell_type": "code",
   "execution_count": null,
   "id": "11bd3c3b",
   "metadata": {},
   "outputs": [],
   "source": [
    "q1 = AttributeQuery(attribute=\"rcsb_assembly_info.deuterated_water_count\", operator=\"greater_or_equal\", value=11)\n",
    "\n",
    "result_polymers = list(q1(\"assembly\"))"
   ]
  },
  {
   "cell_type": "markdown",
   "id": "9d1741ac",
   "metadata": {},
   "source": [
    "### 2a)\n",
    "\n",
    "We can check to make sure the list has been successfully created by printing the first 10 elements of the list. These 10 elements should be the same first ten elements seen on the RCSB RDB search."
   ]
  },
  {
   "cell_type": "code",
   "execution_count": null,
   "id": "ac19c8bc",
   "metadata": {},
   "outputs": [],
   "source": [
    "print(f\"The following drugs are among the {len(result_polymers)} assemblies with at least one heavy water:\", result_polymers[0:10])"
   ]
  },
  {
   "cell_type": "markdown",
   "id": "b9a82e34",
   "metadata": {},
   "source": [
    "### 2b)\n",
    "\n",
    "Now, we can begin downloading the files from the list we made. First, download this element in the list and then check to see if it was downloaded successfully. Then, open the file to see if its contents and in line with what is expected from the download."
   ]
  },
  {
   "cell_type": "code",
   "execution_count": null,
   "id": "01c40afb",
   "metadata": {},
   "outputs": [],
   "source": [
    "i = 0\n",
    "while i < len(result_polymers):\n",
    "    result_polymers[i] = result_polymers[i][0:4]\n",
    "    i += 1\n",
    "\n",
    "test_validation = requests.get(f'https://files.rcsb.org/download/{result_polymers[0]}.cif')\n",
    "print(result_polymers[0])"
   ]
  },
  {
   "cell_type": "code",
   "execution_count": null,
   "id": "20742726",
   "metadata": {},
   "outputs": [],
   "source": [
    "test_validation.status_code"
   ]
  },
  {
   "cell_type": "markdown",
   "id": "c1d567f4",
   "metadata": {},
   "source": [
    "### 2c)\n",
    "\n",
    "To further check, we can create a file and then read the contents of the file. Creating the file includes the creation of a directory (folder) in order to store the folder, which will be called ligands."
   ]
  },
  {
   "cell_type": "code",
   "execution_count": null,
   "id": "4f365461",
   "metadata": {},
   "outputs": [],
   "source": [
    "os.makedirs(\"assemblies/Heavy_Water\", exist_ok=True) \n",
    "\n",
    "with open(f\"assemblies/Heavy_Water/{result_polymers[0]}.cif\", 'w+') as file:\n",
    "    file.write(test_validation.text)"
   ]
  },
  {
   "cell_type": "code",
   "execution_count": null,
   "id": "28cd1173",
   "metadata": {},
   "outputs": [],
   "source": [
    "file1 = open(f\"assemblies/Heavy_Water/{result_polymers[0]}.cif\", 'r')\n",
    "file_text = file1.read() \n",
    "\n",
    "print(file_text)"
   ]
  },
  {
   "cell_type": "markdown",
   "id": "a29e0ed7",
   "metadata": {},
   "source": [
    "### 3)\n",
    "\n",
    "Once you've confirmed that the file download occurred correctly, we can finish by downloading all of the files from the list we made previously into the folder we generated. The following block of code will perform this."
   ]
  },
  {
   "cell_type": "code",
   "execution_count": null,
   "id": "8fdb048c",
   "metadata": {},
   "outputs": [],
   "source": [
    "baseUrl = \"https://files.rcsb.org/download/\"\n",
    "\n",
    "for ChemID in result_polymers:\n",
    "    cFile = f\"{ChemID}.cif\"\n",
    "    cFileUrl = baseUrl + cFile\n",
    "    cFileLocal = \"assemblies/Heavy_Water/\" + cFile #Do we need to make a local file, or is it expected they will fill in the code? \n",
    "    response = requests.get(cFileUrl)\n",
    "    with open(cFileLocal, \"w+\") as file:\n",
    "        file.write(response.text)"
   ]
  }
 ],
 "metadata": {
  "kernelspec": {
   "display_name": "Python 3 (ipykernel)",
   "language": "python",
   "name": "python3"
  },
  "language_info": {
   "codemirror_mode": {
    "name": "ipython",
    "version": 3
   },
   "file_extension": ".py",
   "mimetype": "text/x-python",
   "name": "python",
   "nbconvert_exporter": "python",
   "pygments_lexer": "ipython3",
   "version": "3.11.5"
  }
 },
 "nbformat": 4,
 "nbformat_minor": 5
}